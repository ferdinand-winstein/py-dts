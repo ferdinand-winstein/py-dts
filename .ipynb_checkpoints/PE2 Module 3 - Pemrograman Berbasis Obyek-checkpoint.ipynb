{
 "cells": [
  {
   "cell_type": "markdown",
   "metadata": {
    "colab_type": "text",
    "id": "v1glAk2VJek9"
   },
   "source": [
    "# <center> Pemrograman Berbasis Obyek </center>\n",
    "\n",
    "klik untuk [Open in colab](https://colab.research.google.com/github/ferdinand-winstein/py-dts/blob/master/PE2%20Module%203%20-%20Pemrograman%20Berbasis%20Obyek.ipynb) "
   ]
  },
  {
   "cell_type": "markdown",
   "metadata": {
    "slideshow": {
     "slide_type": "-"
    }
   },
   "source": [
    "# Materi Modul\n",
    "\n",
    "\n",
    "- Konsep dasar Pemrograman Berbasis Obyek (PBO) / object-oriented programming (OOP)\n",
    "- Perbedaan pemrograman prosedural dan berbasis obyek (tujuan dan kelebihan)\n",
    "- Classes, objects, properties, dan methods\n",
    "- Membuat class dan object\n",
    "- Inheritance dan polymorphism\n",
    "- Exceptions as objects\n"
   ]
  },
  {
   "cell_type": "markdown",
   "metadata": {},
   "source": [
    "# Konsep dasar dari pendekatan berorientasi objek\n",
    "\n",
    "Gaya pemrograman prosedural adalah pendekatan(approach) yang paling sering dan banyak digunakan dalam pengembangan perangkat lunak selama beberapa dekade, dan masih digunakan sampai sekarang. Dan sangat mungkin untuk tidak akan hilang di masa mendatang karena berfungsi sangat baik untuk jenis proyek tertentu (umumnya, tidak terlalu rumit dan tidak besar, tetapi ada banyak pengecualian untuk aturan itu).\n",
    "\n",
    "Pendekatan objek cukup baru mulai ada belakangan ini (jauh lebih baru dari pendekatan prosedural) dan sangat berguna ketika diterapkan pada proyek besar dan kompleks yang dilakukan oleh tim besar yang terdiri dari banyak orang.\n",
    "\n",
    "Pemahaman tentang struktur proyek semacam ini membuat banyak tugas penting menjadi lebih mudah, misalnya, membagi proyek menjadi bagian-bagian kecil dan independen, dan pengembangan independen berbagai elemen proyek.\n",
    "\n",
    "__Python adalah bahasa pemrograman yang universal dan dapat melakukan pemrograman objek dan prosedural__\n",
    "\n",
    "Selain itu, Kita dapat membuat banyak aplikasi yang fungsional, meskipun tidak tahu apa-apa tentang kelas dan objek, tetapi  harus ingat bahwa beberapa masalah (misalnya, pengembangan GUI) mungkin memerlukan pendekatan objek yang ketat."
   ]
  },
  {
   "cell_type": "markdown",
   "metadata": {
    "colab_type": "text",
    "id": "Re058XbIJelH"
   },
   "source": [
    "## Class hierarchies\n",
    "\n",
    "Kata \"Kelas\" memiliki banyak arti, tetapi tidak semuanya sesuai dengan gagasan yang ingin kita bahas di sini. Kelas yang kita perhatikan adalah seperti kategori, sebagai hasil dari persamaan yang didefinisikan dengan tepat.\n",
    "\n",
    "Disini akan ditunjukkan beberapa kelas yang dapat menjadi contoh bagus dari konsep OOP.\n",
    " \n",
    "![class1.JPG](https://github.com/sykrn/py-dts/blob/master/class1.JPG?raw=1)\n",
    "\n",
    "Mari kita lihat sejenak kendaraan. Semua kendaraan yang ada (dan yang belum ada) terkait dengan satu fitur penting: kemampuan untuk bergerak. Anda mungkin berpendapat bahwa seekor anjing juga bergerak; apakah anjing adalah kendaraan? Tidak, tidak. Kita harus meningkatkan definisi, yaitu memperkaya dengan kriteria lain, membedakan kendaraan dari makhluk lain, dan menciptakan hubungan yang lebih kuat. Mari kita pertimbangkan keadaan berikut: kendaraan adalah entitas yang dibuat secara artifisial yang digunakan untuk transportasi, digerakkan oleh kekuatan alam, dan diarahkan (digerakkan) oleh manusia.\n",
    "\n",
    "Berdasarkan definisi ini, anjing bukanlah kendaraan.\n",
    "\n",
    "Kelas kendaraan sangat luas. Terlalu luas. Kita harus mendefinisikan beberapa kelas yang lebih khusus. Kelas khusus adalah subkelas. Kelas kendaraan akan menjadi superclass untuk semuanya.\n",
    "\n",
    "Catatan: hierarki tumbuh dari atas ke bawah, seperti akar pohon, bukan cabang. Kelas yang paling umum dan terluas selalu berada di atas (superclass) sedangkan turunannya berada di bawah (subclass).\n",
    "\n",
    "Sekarang, Anda mungkin bisa menunjukkan beberapa subclass potensial untuk superclass Kendaraan. Ada banyak kemungkinan klasifikasi. Kami telah memilih subkelas berdasarkan lingkungan, dan mengatakan bahwa ada (setidaknya) empat subkelas:\n",
    "\n",
    "-  kendaraan darat;\n",
    "-  kendaraan air;\n",
    "-  kendaraan udara;\n",
    "-  kendaraan luar angkasa.\n",
    "\n",
    "Dalam contoh ini, kita akan membahas subclass pertama saja - kendaraan darat. Jika mau, Anda dapat melanjutkan dengan kelas yang tersisa.\n",
    "\n",
    "Kendaraan darat dapat dibagi lagi, tergantung pada metode pengaruhnya ke tanah. Jadi, kita bisa menghitung:\n",
    "\n",
    "-   kendaraan pribadi\n",
    "-   kendaraan umum\n",
    "-   kendaraan kargo\n",
    "\n",
    "Hierarki yang kami buat diilustrasikan oleh gambar.\n",
    "\n",
    "Perhatikan arah panah - mereka selalu menunjuk ke superclass. Kelas tingkat atas adalah pengecualian - ia tidak memiliki kelas supernya sendiri. "
   ]
  },
  {
   "cell_type": "markdown",
   "metadata": {},
   "source": [
    "## Apakah object itu?\n",
    "\n",
    "Kelas (di antara definisi lainnya) adalah sekumpulan objek. Objek adalah makhluk yang termasuk dalam kelas.\n",
    "\n",
    "Objek adalah penjelmaan dari persyaratan, sifat, dan kualitas yang ditetapkan ke kelas tertentu. Ini mungkin terdengar sederhana, tetapi perhatikan keadaan penting berikut ini. Kelas membentuk hierarki.\n",
    "\n",
    "Ini berarti objek yang termasuk dalam kelas tertentu menjadi milik semua kelas super pada saat yang sama. Ini juga dapat berarti bahwa objek apa pun yang termasuk dalam kelas super mungkin bukan milik subkelasnya.\n",
    "\n",
    "Misal: setiap mobil pribadi merupakan suatu benda milik kelas kendaraan beroda. Ini juga berarti bahwa mobil yang sama dimiliki oleh semua kelas super di kelas rumahnya; oleh karena itu, ini adalah anggota kelas kendaraan juga.\n",
    "\n",
    "Anjing Anda (atau kucing Anda) adalah objek yang termasuk dalam kelas mamalia peliharaan, yang secara eksplisit berarti termasuk dalam kelas hewan juga.\n",
    "\n",
    "Setiap subclass lebih terspesialisasi (atau lebih spesifik) daripada superclassnya. Sebaliknya, setiap superkelas lebih umum (lebih abstrak) daripada subkelasnya.\n",
    "\n",
    "Perhatikan bahwa kami telah mengasumsikan bahwa sebuah kelas mungkin hanya memiliki satu kelas super - ini tidak selalu benar, tetapi kami akan membahas masalah ini lebih lanjut nanti. "
   ]
  },
  {
   "cell_type": "markdown",
   "metadata": {},
   "source": [
    "### Contoh class dan obyek sederhana"
   ]
  },
  {
   "cell_type": "code",
   "execution_count": 1,
   "metadata": {},
   "outputs": [],
   "source": [
    "class TheSimplestClass:\n",
    "    pass\n",
    "\n",
    "my_first_object = TheSimplestClass()"
   ]
  },
  {
   "cell_type": "markdown",
   "metadata": {},
   "source": [
    "## Apa yang dimiliki suatu objek?\n",
    "\n",
    "Konvensi pemrograman objek mengasumsikan bahwa setiap objek yang ada dapat dilengkapi dengan tiga kelompok atribut:\n",
    "\n",
    "- sebuah objek memiliki nama yang secara unik mengidentifikasinya dalam namespace rumahnya (meskipun mungkin ada beberapa objek anonim juga)\n",
    "- sebuah objek memiliki sekumpulan properti individual yang membuatnya orisinal, unik, atau luar biasa (meskipun mungkin beberapa objek mungkin tidak memiliki properti sama sekali)\n",
    "- sebuah objek memiliki sekumpulan kemampuan untuk melakukan aktivitas tertentu, mampu mengubah objek itu sendiri, atau beberapa objek lainnya.\n",
    "\n",
    "Ada petunjuk (meskipun ini tidak selalu berhasil) yang dapat membantu Anda mengidentifikasi salah satu dari tiga bidang di atas. Setiap kali Anda mendeskripsikan suatu objek dan Anda menggunakan:\n",
    "-   sebuah kata benda - Anda mungkin mendefinisikan nama objek;\n",
    "-   sebuah kata sifat - Anda mungkin mendefinisikan properti objek;\n",
    "-   kata kerja - Anda mungkin mendefinisikan aktivitas objek.\n",
    "\n",
    "Dua contoh kalimat harus menjadi contoh yang baik:\n",
    "\n",
    "-   Avanza merah melaju dengan cepat.\n",
    "\n",
    "    -  Nama objek = Avanza\n",
    "    -  Kelas = Kendaraan roda 4\n",
    "    -  Properti = Warna -> merah\n",
    "    -  Aktivitas = Pergi -> cepat\n",
    "\n",
    "-   Garong adalah kucing besar yang tidur sepanjang hari.\n",
    "\n",
    "    - Nama objek = Garong\n",
    "    - Kelas = Kucing\n",
    "    - Properti = Ukuran -> besar\n",
    "    - Aktivitas = Tidur -> sepanjang hari"
   ]
  },
  {
   "cell_type": "code",
   "execution_count": null,
   "metadata": {},
   "outputs": [],
   "source": [
    "class mobil:\n",
    "    warna = ''  #warna adalah ciri-ciri atau properties dari class\n",
    "    def pergi(self): #pergi adalah suatu aktivitas dari class, berarti pergi adalah suatu method\n",
    "        print('Ngebut!! Cepat Sekali')\n",
    "    \n",
    "Avanza = mobil() \n",
    "Avanza.warna = 'Merah' #kita definisikan attributes setelah object dibuat\n",
    "print('Warna mobilnya adalah',Avanza.warna)\n",
    "Avanza.pergi()"
   ]
  },
  {
   "cell_type": "code",
   "execution_count": 19,
   "metadata": {},
   "outputs": [
    {
     "name": "stdout",
     "output_type": "stream",
     "text": [
      "{'cakar': 'tajam', 'berat': 100, 'tinggi': 50}\n",
      "Kucing ini besar\n",
      "Kucing tertidur sepanjang hari zzzzzzz\n"
     ]
    }
   ],
   "source": [
    "class kucing:\n",
    "    def __init__(self,cakar,berat,tinggi):\n",
    "        self.cakar = cakar\n",
    "        self.berat = berat\n",
    "        self.tinggi = tinggi\n",
    "        \n",
    "    def ukur(self):\n",
    "        if self.berat > 70 and self.tinggi > 40:\n",
    "            print('Kucing ini besar')\n",
    "        else:\n",
    "            print('Kucing ini kecil')\n",
    "            \n",
    "    def tidur(self):\n",
    "        print('Kucing tertidur sepanjang hari zzzzzzz')\n",
    "\n",
    "Garong = kucing('tajam',100,50)\n",
    "\n",
    "print(Garong.__dict__)\n",
    "Garong.ukur()\n",
    "Garong.tidur()"
   ]
  },
  {
   "attachments": {
    "ffe6a36f13d0c549e0a01688e5e372a36421e84a.png": {
     "image/png": "[encoded data removed]"
    }
   },
   "cell_type": "markdown",
   "metadata": {},
   "source": [
    "### Stack Pendekatan Prosedural vs OOP\n",
    "![ffe6a36f13d0c549e0a01688e5e372a36421e84a.png](attachment:ffe6a36f13d0c549e0a01688e5e372a36421e84a.png)"
   ]
  },
  {
   "cell_type": "code",
   "execution_count": 20,
   "metadata": {
    "cell_style": "split",
    "colab": {},
    "colab_type": "code",
    "id": "B0e6TwquJelT"
   },
   "outputs": [
    {
     "name": "stdout",
     "output_type": "stream",
     "text": [
      "1\n",
      "2\n",
      "3\n",
      "<class 'list'>\n"
     ]
    }
   ],
   "source": [
    "stack = []\n",
    "\n",
    "def push(val):\n",
    "    stack.append(val)\n",
    "\n",
    "def pop():\n",
    "    val = stack[-1]\n",
    "    del stack[-1]\n",
    "    return val\n",
    "\n",
    "push(3)\n",
    "push(2)\n",
    "push(1)\n",
    "\n",
    "print(pop())\n",
    "print(pop())\n",
    "print(pop())\n",
    "\n",
    "print(type(stack))"
   ]
  },
  {
   "cell_type": "code",
   "execution_count": 21,
   "metadata": {
    "cell_style": "split",
    "colab": {},
    "colab_type": "code",
    "id": "hxevKJydJelW"
   },
   "outputs": [
    {
     "name": "stdout",
     "output_type": "stream",
     "text": [
      "[3, 2, 1]\n",
      "['a', 'b', 'c']\n",
      "1\n",
      "2\n",
      "3\n",
      "<class '__main__.Stack'>\n",
      "<class '__main__.Stack'>\n"
     ]
    }
   ],
   "source": [
    "class Stack:\n",
    "    def __init__(self):\n",
    "        self.stackList = []\n",
    "\n",
    "    def push(self, val):\n",
    "        self.stackList.append(val)\n",
    "\n",
    "    def pop(self):\n",
    "        val = self.stackList[-1]\n",
    "        del self.stackList[-1]\n",
    "        return val\n",
    "\n",
    "littleStack = Stack()\n",
    "BigStack = Stack()\n",
    "\n",
    "littleStack.push(3)\n",
    "littleStack.push(2)\n",
    "BigStack.push('a')\n",
    "littleStack.push(1)\n",
    "BigStack.push('b')\n",
    "BigStack.push('c')\n",
    "\n",
    "print(littleStack.stackList)\n",
    "print(BigStack.stackList)\n",
    "\n",
    "print(littleStack.pop())\n",
    "print(littleStack.pop())\n",
    "print(littleStack.pop())\n",
    "\n",
    "print(type(littleStack))\n",
    "print(type(BigStack))"
   ]
  },
  {
   "cell_type": "markdown",
   "metadata": {
    "cell_style": "split",
    "colab_type": "text",
    "id": "q6LFiqjqJelJ"
   },
   "source": [
    "## Inheritance (Pewarisan sifat)\n",
    "\n",
    "* `superclass/Parent` lebih bersifat umum dari pada `subclass/child`.\n",
    "* `subclass/child` mewarisi sifat dari `superclass/Parent` \n",
    "\n",
    "Contoh lainnya adalah hierarki kerajaan taksonomi hewan.\n",
    "\n",
    "Kita dapat mengatakan bahwa semua hewan dapat dibagi menjadi lima subkelas:\n",
    "\n",
    "-    mamalia;\n",
    "-    reptil;\n",
    "-    burung-burung;\n",
    "-    ikan;\n",
    "-    amfibi.\n",
    "\n",
    "Kami akan mengambil yang pertama untuk analisis lebih lanjut.\n",
    "\n",
    "Kami telah mengidentifikasi subclass berikut:\n",
    "\n",
    "-    mamalia liar;\n",
    "-    mamalia yang dijinakkan. \n",
    "\n",
    "![class2.JPG](https://github.com/sykrn/py-dts/blob/master/class2.JPG?raw=1)"
   ]
  },
  {
   "cell_type": "markdown",
   "metadata": {
    "cell_style": "split",
    "colab_type": "text",
    "id": "fu9rAwT-JelK"
   },
   "source": [
    "Mari kita definisikan salah satu konsep dasar pemrograman objek, bernama pewarisan. Objek apa pun yang terikat ke tingkat tertentu dari hierarki kelas mewarisi semua sifat  yang ditentukan di dalam salah satu kelas super.\n",
    "\n",
    "Kelas rumah objek dapat menentukan ciri-ciri baru yang akan diwarisi oleh salah satu subkelasnya.\n",
    "Konsep warisan\n",
    "\n",
    "![inheritance.JPG](https://github.com/sykrn/py-dts/blob/master/inheritance.JPG?raw=1)\n",
    "\n",
    "Anda seharusnya tidak memiliki masalah dalam mencocokkan aturan ini dengan contoh spesifik, baik itu berlaku untuk hewan, atau kendaraan. "
   ]
  },
  {
   "cell_type": "code",
   "execution_count": 1,
   "metadata": {},
   "outputs": [],
   "source": [
    "# Contoh pendifinisian class\n",
    "\n",
    "class Hewan:\n",
    "    def __init__(self,nama):\n",
    "        self.nama = nama\n",
    "    def gerak(self):\n",
    "        print('gerak-gerak!!!')\n",
    "\n",
    "class HewanDarat(Hewan):\n",
    "    def __init__(self,nama,kaki=0):\n",
    "        super().__init__(nama)     # Inheritance\n",
    "        self.kaki = kaki         # properti/sifat baru\n",
    "\n",
    "class HewanAir(Hewan):\n",
    "    def __init__(self,nama,sirip='kecil'):\n",
    "        super().__init__(nama)     # Inheritance\n",
    "        self.sirip = sirip       # properti/sifat baru"
   ]
  },
  {
   "cell_type": "code",
   "execution_count": 2,
   "metadata": {},
   "outputs": [
    {
     "name": "stdout",
     "output_type": "stream",
     "text": [
      "gerak-gerak!!!\n",
      "gerak-gerak!!!\n",
      "gerak-gerak!!!\n"
     ]
    }
   ],
   "source": [
    "monyet = Hewan('Sarimin')\n",
    "anjing = HewanDarat('Guguk',4)\n",
    "cupang = HewanAir('Blukutuk','lucu')\n",
    "\n",
    "monyet.gerak()\n",
    "anjing.gerak()\n",
    "cupang.gerak()"
   ]
  },
  {
   "cell_type": "markdown",
   "metadata": {},
   "source": [
    "## Polymorphism \n",
    "\n",
    "Polymorphism terbagi menjadi dua suku kata yaitu, Poly yang berarti banyak dan Morphism yang berarti bentuk. Dalam ilmu biologi, Polymorphism adalah sebuah prinsip dalam biologi di mana organisme atau spesies memiliki banyak bentuk serta tahapan (stages). Prinsip tersebut diterapkan juga pada bahasa Python.\n",
    "\n",
    "Polymorphism dalam OOP merupakan sebuah konsep dimana class memiliki banyak “bentuk” method yang berbeda, meskipun namanya sama. Maksud dari “bentuk” adalah isinya yang berbeda, namun tipe data dan parameternya berbeda. Contohnya kita memiliki tiga class yang berbeda yaitu: “Kelinci”, “Kucing”, dan “Sapi”. Di mana ketiga class tersebut merupakan turunan dari class “Hewan”."
   ]
  },
  {
   "cell_type": "code",
   "execution_count": 3,
   "metadata": {
    "cell_style": "split",
    "colab": {},
    "colab_type": "code",
    "id": "5gmFkM38JelL"
   },
   "outputs": [],
   "source": [
    "# Contoh pendifinisian class\n",
    "\n",
    "class Hewan:\n",
    "    def __init__(self,nama):\n",
    "        self.nama = nama\n",
    "    def gerak(self):\n",
    "        print('gerak-gerak!!!')\n",
    "\n",
    "class HewanDarat(Hewan):\n",
    "    def __init__(self,nama,kaki=0):\n",
    "        Hewan.__init__(self,nama)     # Inheritance\n",
    "        self.kaki = kaki         # properti/sifat baru\n",
    "        \n",
    "    def gerak(self):             # Polymorphism\n",
    "        print(self.nama,'gerak di darat dengan kaki',self.kaki)\n",
    "\n",
    "class HewanAir(Hewan):\n",
    "    def __init__(self,nama,sirip='kecil'):\n",
    "        Hewan.__init__(self,nama)     # Inheritance\n",
    "        self.sirip = sirip       # properti/sifat baru\n",
    "        \n",
    "    def gerak(self):             # Polymorphism\n",
    "        print(self.nama,'gerak di air dengan sirip', self.sirip)"
   ]
  },
  {
   "cell_type": "code",
   "execution_count": 4,
   "metadata": {
    "cell_style": "split",
    "colab": {},
    "colab_type": "code",
    "id": "9NembN9UJelP"
   },
   "outputs": [
    {
     "name": "stdout",
     "output_type": "stream",
     "text": [
      "gerak-gerak!!!\n",
      "Guguk gerak di darat dengan kaki 4\n",
      "Blukutuk gerak di air dengan sirip lucu\n"
     ]
    }
   ],
   "source": [
    "monyet = Hewan('Sarimin')\n",
    "anjing = HewanDarat('Guguk',4)\n",
    "cupang = HewanAir('Blukutuk','lucu')\n",
    "\n",
    "monyet.gerak()\n",
    "anjing.gerak()\n",
    "cupang.gerak()"
   ]
  },
  {
   "cell_type": "markdown",
   "metadata": {
    "colab_type": "text",
    "id": "Y2P7fZUyJelS"
   },
   "source": [
    "## Enkapsulasi\n",
    "\n",
    "Menyembunyikan atribut dan behavior yang bersifat private dari kelas lainnya.\n",
    "Enkapsulasi di python sangat sederhana, menyembunyikan atribut (tidak sepenuhnya) yaitu dengan menggunakan `__` (dua garis bawah) di awal penamaan atribut.\n",
    "\n",
    "> Di bahasa pemrograman yang lain mungkin anda akan menemukan hal yang lebih kompleks, cth: `public`,`virtual`, `private`, `protected`.\n",
    "\n"
   ]
  },
  {
   "cell_type": "code",
   "execution_count": 5,
   "metadata": {},
   "outputs": [
    {
     "name": "stdout",
     "output_type": "stream",
     "text": [
      "[]\n"
     ]
    }
   ],
   "source": [
    "# tanpa encapsulation\n",
    "class Stack:\n",
    "    def __init__(self):\n",
    "        self.stackList = [] \n",
    "\n",
    "stackObject = Stack()\n",
    "print(stackObject.stackList)"
   ]
  },
  {
   "cell_type": "code",
   "execution_count": 6,
   "metadata": {
    "cell_style": "split",
    "colab": {},
    "colab_type": "code",
    "id": "N0IggmFVJela"
   },
   "outputs": [
    {
     "ename": "AttributeError",
     "evalue": "'Stack' object has no attribute 'stackList'",
     "output_type": "error",
     "traceback": [
      "\u001b[1;31m---------------------------------------------------------------------------\u001b[0m",
      "\u001b[1;31mAttributeError\u001b[0m                            Traceback (most recent call last)",
      "Input \u001b[1;32mIn [6]\u001b[0m, in \u001b[0;36m<cell line: 7>\u001b[1;34m()\u001b[0m\n\u001b[0;32m      4\u001b[0m         \u001b[38;5;28mself\u001b[39m\u001b[38;5;241m.\u001b[39m__stackList \u001b[38;5;241m=\u001b[39m [] \u001b[38;5;66;03m# __ membuat private\u001b[39;00m\n\u001b[0;32m      6\u001b[0m stackObject \u001b[38;5;241m=\u001b[39m Stack()\n\u001b[1;32m----> 7\u001b[0m \u001b[38;5;28mprint\u001b[39m(\u001b[43mstackObject\u001b[49m\u001b[38;5;241;43m.\u001b[39;49m\u001b[43mstackList\u001b[49m)\n",
      "\u001b[1;31mAttributeError\u001b[0m: 'Stack' object has no attribute 'stackList'"
     ]
    }
   ],
   "source": [
    "# dengan encapsulation\n",
    "class Stack:\n",
    "    def __init__(self):\n",
    "        self.__stackList = [] # __ membuat private\n",
    "\n",
    "stackObject = Stack()\n",
    "print(stackObject.stackList)"
   ]
  },
  {
   "cell_type": "code",
   "execution_count": 7,
   "metadata": {
    "cell_style": "split",
    "colab": {},
    "colab_type": "code",
    "id": "_2AIqa50Jele"
   },
   "outputs": [
    {
     "name": "stdout",
     "output_type": "stream",
     "text": [
      "1\n",
      "2\n",
      "3\n"
     ]
    }
   ],
   "source": [
    "class Stack:\n",
    "    def __init__(self):\n",
    "        self.__stackList = []\n",
    "\n",
    "    def push(self, val):\n",
    "        self.__stackList.append(val)\n",
    "\n",
    "    def pop(self):\n",
    "        val = self.__stackList[-1]\n",
    "        del self.__stackList[-1]\n",
    "        return val\n",
    "\n",
    "littleStack = Stack()\n",
    "\n",
    "littleStack.push(3)\n",
    "littleStack.push(2)\n",
    "littleStack.push(1)\n",
    "\n",
    "print(littleStack.pop())\n",
    "print(littleStack.pop())\n",
    "print(littleStack.pop())"
   ]
  },
  {
   "cell_type": "code",
   "execution_count": null,
   "metadata": {
    "cell_style": "split",
    "colab": {},
    "colab_type": "code",
    "id": "XrDxE2ZeJelh",
    "scrolled": false
   },
   "outputs": [],
   "source": [
    "class AddingStack(Stack):\n",
    "    def __init__(self):\n",
    "        Stack.__init__(self)\n",
    "        self.__sum = 0\n",
    "\n",
    "    def getSum(self):\n",
    "        return self.__sum\n",
    "\n",
    "    def push(self, val):\n",
    "        self.__sum += val\n",
    "        Stack.push(self, val)\n",
    "\n",
    "    def pop(self):\n",
    "        val = Stack.pop(self)\n",
    "        self.__sum -= val\n",
    "        return val\n",
    "\n",
    "\n",
    "stackObject = AddingStack()\n",
    "\n",
    "for i in range(5):\n",
    "    stackObject.push(i)\n",
    "print(stackObject.getSum())\n",
    "\n",
    "for i in range(5):\n",
    "    print(stackObject.pop())"
   ]
  },
  {
   "cell_type": "code",
   "execution_count": null,
   "metadata": {},
   "outputs": [],
   "source": [
    "# Contoh pendifinisian class\n",
    "\n",
    "class Hewan:\n",
    "    def __init__(self,nama):\n",
    "        self.__nama = nama #Encapsulation\n",
    "    def getNama(self):\n",
    "        return self.__nama\n",
    "    \n",
    "    def gerak(self):\n",
    "        print('gerak-gerak!!!')\n",
    "    \n",
    "class HewanDarat(Hewan):\n",
    "    def __init__(self,nama,kaki=0):\n",
    "        Hewan.__init__(self,nama)     # Inheritance\n",
    "        self.kaki = kaki         # properti/sifat baru\n",
    "        \n",
    "    def gerak(self):             # Polymorphism\n",
    "        print(Hewan.getNama(self),'gerak di darat dengan kaki',self.kaki) \n",
    "\n",
    "class HewanAir(Hewan):\n",
    "    def __init__(self,nama,sirip='kecil'):\n",
    "        Hewan.__init__(self,nama)     # Inheritance\n",
    "        self.sirip = sirip       # properti/sifat baru\n",
    "        \n",
    "    def gerak(self):             # Polymorphism\n",
    "        print(Hewan.getNama(self),'gerak di air dengan sirip', self.sirip)"
   ]
  },
  {
   "cell_type": "code",
   "execution_count": null,
   "metadata": {},
   "outputs": [],
   "source": [
    "monyet = Hewan('Sarimin')\n",
    "anjing = HewanDarat('Guguk',4)\n",
    "cupang = HewanAir('Blukutuk','lucu')\n",
    "\n",
    "monyet.gerak()\n",
    "anjing.gerak()\n",
    "cupang.gerak()"
   ]
  },
  {
   "cell_type": "markdown",
   "metadata": {},
   "source": [
    "# Properties (instance variable, class variables, attributes)"
   ]
  },
  {
   "cell_type": "markdown",
   "metadata": {},
   "source": [
    "## Instance Variable\n",
    "\n",
    "- objek berbeda dari kelas yang sama mungkin memiliki nilai instance variable yang berbeda;\n",
    "- setiap objek membawa set nilai instance variablenya sendiri - mereka tidak mengganggu satu sama lain dengan cara apa pun."
   ]
  },
  {
   "cell_type": "code",
   "execution_count": 8,
   "metadata": {},
   "outputs": [
    {
     "name": "stdout",
     "output_type": "stream",
     "text": [
      "{'first': 1}\n",
      "{'first': 2, 'second': 3}\n",
      "{'first': 4, 'third': 5}\n"
     ]
    }
   ],
   "source": [
    "class ExampleClass:\n",
    "    def __init__(self, val = 1):\n",
    "        self.first = val\n",
    "\n",
    "    def set_second(self, val):\n",
    "        self.second = val\n",
    "\n",
    "\n",
    "example_object_1 = ExampleClass()\n",
    "example_object_2 = ExampleClass(2)\n",
    "\n",
    "example_object_2.set_second(3)\n",
    "\n",
    "example_object_3 = ExampleClass(4)\n",
    "example_object_3.third = 5\n",
    "\n",
    "print(example_object_1.__dict__)\n",
    "print(example_object_2.__dict__)\n",
    "print(example_object_3.__dict__)"
   ]
  },
  {
   "cell_type": "code",
   "execution_count": 9,
   "metadata": {},
   "outputs": [
    {
     "name": "stdout",
     "output_type": "stream",
     "text": [
      "{'_ExampleClass__first': 1}\n",
      "{'_ExampleClass__first': 2, '_ExampleClass__second': 3}\n",
      "{'_ExampleClass__first': 4, '__third': 5}\n"
     ]
    }
   ],
   "source": [
    "class ExampleClass:\n",
    "    def __init__(self, val = 1):\n",
    "        self.__first = val\n",
    "\n",
    "    def set_second(self, val = 2):\n",
    "        self.__second = val\n",
    "\n",
    "\n",
    "example_object_1 = ExampleClass()\n",
    "example_object_2 = ExampleClass(2)\n",
    "\n",
    "example_object_2.set_second(3)\n",
    "\n",
    "example_object_3 = ExampleClass(4)\n",
    "example_object_3.__third = 5\n",
    "\n",
    "\n",
    "print(example_object_1.__dict__)\n",
    "print(example_object_2.__dict__)\n",
    "print(example_object_3.__dict__)"
   ]
  },
  {
   "cell_type": "markdown",
   "metadata": {},
   "source": [
    "## Class Variable\n",
    "\n",
    "Class Variable adalah properti yang hanya ada dalam satu salinan dalam sebuah class dan disimpan di luar objek.\n",
    "\n",
    "Catatan: tidak ada instance variabel jika tidak ada objek di kelas, sedangkan variabel kelas ada meskipun tidak ada objek yang dibuat dari suatu class."
   ]
  },
  {
   "cell_type": "code",
   "execution_count": 15,
   "metadata": {},
   "outputs": [
    {
     "name": "stdout",
     "output_type": "stream",
     "text": [
      "1\n",
      "2\n",
      "3\n",
      "{'_ExampleClass__first': 1} 3\n",
      "{'_ExampleClass__first': 2} 3\n",
      "{'_ExampleClass__first': 4} 3\n"
     ]
    }
   ],
   "source": [
    "class ExampleClass:\n",
    "    counter = 0 #inilah class variable\n",
    "    def __init__(self, val = 1):\n",
    "        self.__first = val\n",
    "        ExampleClass.counter += 1\n",
    "\n",
    "\n",
    "example_object_1 = ExampleClass()\n",
    "print(example_object_1.counter)\n",
    "\n",
    "example_object_2 = ExampleClass(2)\n",
    "print(example_object_2.counter)\n",
    "\n",
    "example_object_3 = ExampleClass(4)\n",
    "print(example_object_3.counter)\n",
    "\n",
    "print(example_object_1.__dict__, example_object_1.counter)\n",
    "print(example_object_2.__dict__, example_object_2.counter)\n",
    "print(example_object_3.__dict__, example_object_3.counter)"
   ]
  },
  {
   "cell_type": "code",
   "execution_count": null,
   "metadata": {},
   "outputs": [],
   "source": [
    "class ExampleClass:\n",
    "    varia = 1\n",
    "    def __init__(self, val):\n",
    "        ExampleClass.varia = val\n",
    "\n",
    "\n",
    "print(ExampleClass.__dict__)\n",
    "example_object = ExampleClass(2)\n",
    "\n",
    "print(ExampleClass.__dict__)\n",
    "print(example_object.__dict__)"
   ]
  },
  {
   "cell_type": "markdown",
   "metadata": {},
   "source": [
    "## Attribute"
   ]
  },
  {
   "cell_type": "code",
   "execution_count": 16,
   "metadata": {},
   "outputs": [
    {
     "name": "stdout",
     "output_type": "stream",
     "text": [
      "{'a': 1}\n"
     ]
    }
   ],
   "source": [
    "class ExampleClass:\n",
    "    def __init__(self, val):\n",
    "        if val % 2 != 0:\n",
    "            self.a = 1\n",
    "        else:\n",
    "            self.b = 1\n",
    "\n",
    "example_object = ExampleClass(1)\n",
    "\n",
    "print(example_object.__dict__)\n",
    "# print(example_object.a)\n",
    "# print(example_object.b)"
   ]
  },
  {
   "cell_type": "code",
   "execution_count": 19,
   "metadata": {},
   "outputs": [
    {
     "name": "stdout",
     "output_type": "stream",
     "text": [
      "1\n"
     ]
    }
   ],
   "source": [
    "class ExampleClass:\n",
    "    def __init__(self, val):\n",
    "        if val % 2 != 0:\n",
    "            self.a = 1\n",
    "        else:\n",
    "            self.b = 1\n",
    "\n",
    "\n",
    "example_object = ExampleClass(1)\n",
    "print(example_object.a)\n",
    "\n",
    "try:\n",
    "    print(example_object.b)\n",
    "except AttributeError:\n",
    "    pass\n"
   ]
  },
  {
   "cell_type": "code",
   "execution_count": 23,
   "metadata": {},
   "outputs": [
    {
     "name": "stdout",
     "output_type": "stream",
     "text": [
      "True\n",
      "False\n",
      "True\n",
      "False\n"
     ]
    }
   ],
   "source": [
    "class ExampleClass:\n",
    "    attr = 1\n",
    "\n",
    "print(hasattr(ExampleClass, 'attr'))\n",
    "print(hasattr(ExampleClass, 'prop'))\n",
    "\n",
    "example_object = ExampleClass()\n",
    "\n",
    "print(hasattr(example_object, 'attr'))\n",
    "print(hasattr(example_object, 'prop'))"
   ]
  },
  {
   "cell_type": "markdown",
   "metadata": {},
   "source": [
    "# Methods"
   ]
  },
  {
   "cell_type": "code",
   "execution_count": 24,
   "metadata": {},
   "outputs": [
    {
     "name": "stdout",
     "output_type": "stream",
     "text": [
      "method\n"
     ]
    }
   ],
   "source": [
    "class Classy:\n",
    "    def method(self):\n",
    "        print(\"method\")\n",
    "\n",
    "obj = Classy()\n",
    "obj.method()"
   ]
  },
  {
   "cell_type": "markdown",
   "metadata": {},
   "source": [
    "## `self` \n",
    "digunakan untuk mengakses instance ataupun class variables dari obyek tersebut."
   ]
  },
  {
   "cell_type": "code",
   "execution_count": 26,
   "metadata": {},
   "outputs": [
    {
     "name": "stdout",
     "output_type": "stream",
     "text": [
      "2 3\n"
     ]
    }
   ],
   "source": [
    "class Classy:\n",
    "    varia = 2\n",
    "    def method(self):\n",
    "        print(self.varia, self.var)\n",
    "\n",
    "\n",
    "obj = Classy()\n",
    "obj.var = 3\n",
    "obj.method()"
   ]
  },
  {
   "cell_type": "markdown",
   "metadata": {},
   "source": [
    "##  `__init__`  Constructor\n",
    "bukan method biasa, digunakan untuk pendefinisian constructor.\n",
    "\n",
    "Constructor:\n",
    "- wajib memiliki parameter diri (`__self__`)\n",
    "- mungkin (tetapi tidak perlu) memiliki lebih banyak parameter daripada hanya diri sendiri; jika ini terjadi, cara di mana nama kelas digunakan untuk membuat objek harus mencerminkan definisi `__init__`;\n",
    "- dapat digunakan untuk menyiapkan objek, yaitu, menginisialisasi keadaan internalnya dengan benar, membuat variabel instan, membuat instance objek lain jika keberadaannya diperlukan, dll.\n"
   ]
  },
  {
   "cell_type": "code",
   "execution_count": 27,
   "metadata": {},
   "outputs": [
    {
     "name": "stdout",
     "output_type": "stream",
     "text": [
      "object\n"
     ]
    }
   ],
   "source": [
    "class Classy:\n",
    "    def __init__(self, value):\n",
    "        self.var = value\n",
    "\n",
    "\n",
    "obj_1 = Classy(\"object\")\n",
    "\n",
    "print(obj_1.var)\n"
   ]
  },
  {
   "cell_type": "code",
   "execution_count": 28,
   "metadata": {},
   "outputs": [
    {
     "name": "stdout",
     "output_type": "stream",
     "text": [
      "object\n",
      "None\n"
     ]
    }
   ],
   "source": [
    "class Classy:\n",
    "    def __init__(self, value = None):\n",
    "        self.var = value\n",
    "\n",
    "\n",
    "obj_1 = Classy(\"object\")\n",
    "obj_2 = Classy()\n",
    "\n",
    "print(obj_1.var)\n",
    "print(obj_2.var)\n"
   ]
  },
  {
   "cell_type": "markdown",
   "metadata": {},
   "source": [
    "## `__str__`\n",
    "\n",
    "output ketika instance masuk ke dalam fungsi print."
   ]
  },
  {
   "cell_type": "code",
   "execution_count": 31,
   "metadata": {},
   "outputs": [
    {
     "name": "stdout",
     "output_type": "stream",
     "text": [
      "object1\n",
      "object2\n"
     ]
    }
   ],
   "source": [
    "class Classy:\n",
    "    def __init__(self, value = None):\n",
    "        self.var = value\n",
    "    \n",
    "    def __str__(self, value = None):\n",
    "        return self.var                     #output harus berupa string\n",
    "\n",
    "obj_1 = Classy(\"object1\")\n",
    "obj_2 = Classy(\"object2\")\n",
    "\n",
    "print(obj_1)\n",
    "print(obj_2)"
   ]
  },
  {
   "cell_type": "code",
   "execution_count": 32,
   "metadata": {},
   "outputs": [
    {
     "ename": "TypeError",
     "evalue": "__str__ returned non-string (type NoneType)",
     "output_type": "error",
     "traceback": [
      "\u001b[1;31m---------------------------------------------------------------------------\u001b[0m",
      "\u001b[1;31mTypeError\u001b[0m                                 Traceback (most recent call last)",
      "Input \u001b[1;32mIn [32]\u001b[0m, in \u001b[0;36m<cell line: 2>\u001b[1;34m()\u001b[0m\n\u001b[0;32m      1\u001b[0m obj_3 \u001b[38;5;241m=\u001b[39m Classy()\n\u001b[1;32m----> 2\u001b[0m \u001b[38;5;28;43mprint\u001b[39;49m\u001b[43m(\u001b[49m\u001b[43mobj_3\u001b[49m\u001b[43m)\u001b[49m\n",
      "\u001b[1;31mTypeError\u001b[0m: __str__ returned non-string (type NoneType)"
     ]
    }
   ],
   "source": [
    "obj_3 = Classy()\n",
    "print(obj_3)"
   ]
  },
  {
   "cell_type": "markdown",
   "metadata": {},
   "source": [
    "## `__dict__` \n",
    "mengecek isi dari suatu objek atau class dimana key diambil dari properties. "
   ]
  },
  {
   "cell_type": "code",
   "execution_count": 33,
   "metadata": {},
   "outputs": [
    {
     "name": "stdout",
     "output_type": "stream",
     "text": [
      "{'var': 2}\n",
      "{'__module__': '__main__', 'varia': 1, '__init__': <function Classy.__init__ at 0x000001FF373CFCA0>, 'method': <function Classy.method at 0x000001FF373CFAF0>, '_Classy__hidden': <function Classy.__hidden at 0x000001FF373CFB80>, '__dict__': <attribute '__dict__' of 'Classy' objects>, '__weakref__': <attribute '__weakref__' of 'Classy' objects>, '__doc__': None}\n"
     ]
    }
   ],
   "source": [
    "class Classy:\n",
    "    varia = 1\n",
    "    def __init__(self):\n",
    "        self.var = 2\n",
    "\n",
    "    def method(self):\n",
    "        pass\n",
    "\n",
    "    def __hidden(self):\n",
    "        pass\n",
    "\n",
    "\n",
    "obj = Classy()\n",
    "\n",
    "print(obj.__dict__)\n",
    "print(Classy.__dict__)"
   ]
  },
  {
   "cell_type": "markdown",
   "metadata": {},
   "source": [
    "## `__name__`\n",
    "cek nama dari class dan tipe objek"
   ]
  },
  {
   "cell_type": "code",
   "execution_count": 35,
   "metadata": {},
   "outputs": [
    {
     "name": "stdout",
     "output_type": "stream",
     "text": [
      "Classy\n",
      "Classy\n"
     ]
    }
   ],
   "source": [
    "class Classy:\n",
    "    pass\n",
    "\n",
    "print(Classy.__name__)\n",
    "obj = Classy()\n",
    "print(type(obj).__name__)\n"
   ]
  },
  {
   "cell_type": "markdown",
   "metadata": {},
   "source": [
    "## `__module__` \n",
    "cek nama module tempat pendefinisian class maupun objek"
   ]
  },
  {
   "cell_type": "code",
   "execution_count": 36,
   "metadata": {},
   "outputs": [
    {
     "name": "stdout",
     "output_type": "stream",
     "text": [
      "__main__\n",
      "__main__\n"
     ]
    }
   ],
   "source": [
    "class Classy:\n",
    "    pass\n",
    "\n",
    "print(Classy.__module__)\n",
    "obj = Classy()\n",
    "print(obj.__module__)"
   ]
  },
  {
   "cell_type": "code",
   "execution_count": 41,
   "metadata": {},
   "outputs": [
    {
     "name": "stdout",
     "output_type": "stream",
     "text": [
      "pandas.core.frame\n"
     ]
    }
   ],
   "source": [
    "import pandas as pd\n",
    "\n",
    "print(pd.DataFrame.__module__) "
   ]
  },
  {
   "cell_type": "markdown",
   "metadata": {},
   "source": [
    "## `__bases__` \n",
    "return class parent"
   ]
  },
  {
   "cell_type": "code",
   "execution_count": 45,
   "metadata": {},
   "outputs": [
    {
     "name": "stdout",
     "output_type": "stream",
     "text": [
      "(<class '__main__.SuperOne'>, <class '__main__.SuperTwo'>)\n",
      "object\n",
      "object\n",
      "SuperOne\n",
      "SuperTwo\n"
     ]
    }
   ],
   "source": [
    "class SuperOne:\n",
    "    pass\n",
    "\n",
    "class SuperTwo:\n",
    "    pass\n",
    "\n",
    "class Sub(SuperOne, SuperTwo):\n",
    "    pass\n",
    "\n",
    "print(Sub.__bases__)\n",
    "\n",
    "def printBases(cls):\n",
    "    for x in cls.__bases__:\n",
    "        print(x.__name__)\n",
    "\n",
    "\n",
    "printBases(SuperOne)\n",
    "printBases(SuperTwo)\n",
    "printBases(Sub)\n"
   ]
  },
  {
   "cell_type": "markdown",
   "metadata": {},
   "source": [
    "### Menginvestigasi classes\n",
    "\n",
    "Baik refleksi dan introspeksi memungkinkan seorang programmer untuk melakukan apa saja dengan setiap objek, tidak peduli dari mana asalnya. \n",
    "\n",
    "Fungsi bernama <code>incIntsI()</code> pada code setelah ini mendapatkan objek dari kelas apa pun, memindai isinya untuk menemukan semua atribut bilangan bulat dengan nama yang dimulai dengan i, dan menambahkannya satu per satu. "
   ]
  },
  {
   "cell_type": "code",
   "execution_count": null,
   "metadata": {},
   "outputs": [],
   "source": [
    "class MyClass:\n",
    "    pass\n",
    "\n",
    "obj = MyClass()\n",
    "obj.a = 1\n",
    "obj.b = 2\n",
    "obj.i = 3\n",
    "obj.ireal = 3.5\n",
    "obj.integer = 4\n",
    "obj.z = 5\n",
    "\n",
    "\n",
    "def incIntsI(obj):\n",
    "    for name in obj.__dict__.keys():\n",
    "        if name.startswith('i'):\n",
    "            val = getattr(obj, name)\n",
    "            if isinstance(val, int):\n",
    "                setattr(obj, name, val + 1)\n",
    "\n",
    "\n",
    "print(obj.__dict__)\n",
    "incIntsI(obj)\n",
    "print(obj.__dict__)\n"
   ]
  },
  {
   "cell_type": "markdown",
   "metadata": {},
   "source": [
    "## Lab 3.4.1.12 Timer"
   ]
  },
  {
   "cell_type": "code",
   "execution_count": null,
   "metadata": {},
   "outputs": [],
   "source": [
    "class Timer:\n",
    "    def __init__( self, a,b,c ):\n",
    "        self.num = a*60*60 + b*60 + c \n",
    "\n",
    "    def __str__(self):\n",
    "        return str(int(self.num/(60*60)))+\":\"+str(int(self.num/60%60))+\":\"+str(self.num%60)\n",
    "\n",
    "    def next_second(self):\n",
    "        self.num = self.num + 1\n",
    "        if(self.num >= 60*60*24):\n",
    "            self.num = 0\n",
    "\n",
    "    def prev_second(self):\n",
    "        self.num = self.num - 1\n",
    "        if(self.num < 0):\n",
    "            self.num = 60*60*24 - 1\n"
   ]
  },
  {
   "cell_type": "code",
   "execution_count": null,
   "metadata": {},
   "outputs": [],
   "source": [
    "timer = Timer(23, 59, 59)\n",
    "print(timer)\n",
    "timer.next_second()\n",
    "print(timer)\n",
    "timer.prev_second()\n",
    "print(timer)"
   ]
  },
  {
   "cell_type": "markdown",
   "metadata": {},
   "source": [
    "## Lab  3.4.1.14 Points on a plane"
   ]
  },
  {
   "cell_type": "code",
   "execution_count": null,
   "metadata": {},
   "outputs": [],
   "source": [
    "import math\n",
    "\n",
    "\n",
    "class Point:\n",
    "    def __init__(self, x=0.0, y=0.0):\n",
    "        self.x = x\n",
    "        self.y = y\n",
    "\n",
    "    def getx(self):\n",
    "        return self.x\n",
    "\n",
    "    def gety(self):\n",
    "        return self.y\n",
    "\n",
    "    def distance_from_xy(self, x, y):\n",
    "        return math.sqrt((self.y-y)**2+(self.x-x)**2)\n",
    "\n",
    "    def distance_from_point(self, point):\n",
    "        return math.sqrt((self.y-point.y)**2+(self.x-point.x)**2)\n",
    "\n",
    "\n",
    "point1 = Point(0, 0)\n",
    "point2 = Point(1, 1)\n",
    "print(point1.distance_from_point(point2))\n",
    "print(point2.distance_from_xy(2, 0))"
   ]
  },
  {
   "cell_type": "markdown",
   "metadata": {},
   "source": [
    "expected output:\n",
    "<code><br>\n",
    "1.4142135623730951<br>\n",
    "1.4142135623730951<br>\n",
    "</code>"
   ]
  },
  {
   "cell_type": "markdown",
   "metadata": {},
   "source": [
    "## Lab 3.4.1.15 Triangle"
   ]
  },
  {
   "cell_type": "code",
   "execution_count": null,
   "metadata": {},
   "outputs": [],
   "source": [
    "import math\n",
    "\n",
    "class Point:\n",
    "    def __init__(self, x=0.0, y=0.0):\n",
    "        self.x = x\n",
    "        self.y = y\n",
    "\n",
    "    def getx(self):\n",
    "        return self.x\n",
    "\n",
    "    def gety(self):\n",
    "        return self.y\n",
    "\n",
    "    def distance_from_xy(self, x, y):\n",
    "        return math.sqrt((self.y-y)**2+(self.x-x)**2)\n",
    "\n",
    "    def distance_from_point(self, point):\n",
    "        return math.sqrt((self.y-point.y)**2+(self.x-point.x)**2)\n",
    "\n",
    "class Triangle:\n",
    "    def __init__(self, vertice1, vertice2, vertice3):\n",
    "        self.a = vertice1\n",
    "        self.b = vertice2\n",
    "        self.c = vertice3\n",
    "    def perimeter(self):\n",
    "        return (\n",
    "            self.a.distance_from_point(self.b) + \n",
    "            self.b.distance_from_point(self.c) + \n",
    "            self.a.distance_from_point(self.c)\n",
    "        )\n",
    "        \n",
    "\n",
    "\n",
    "triangle = Triangle(Point(0, 0), Point(1, 0), Point(0, 1))\n",
    "print(triangle.perimeter())\n"
   ]
  },
  {
   "cell_type": "markdown",
   "metadata": {},
   "source": [
    "Expected output:\n",
    "<code><br>3.414213562373095</code>"
   ]
  },
  {
   "cell_type": "markdown",
   "metadata": {},
   "source": [
    "![](https://asset.kompas.com/crops/q9Fyxhd4rK7DMqoWn9tlIE7xGmE=/0x0:3750x2500/750x500/data/photo/2020/01/23/5e292e7e77ea8.jpg)"
   ]
  },
  {
   "cell_type": "code",
   "execution_count": 47,
   "metadata": {},
   "outputs": [],
   "source": [
    "class Animal: #Abstract Class = digunakan sbg basis dari semua kelas yg lain\n",
    "    def __init__(self,nama):\n",
    "        self.nama = nama #Properties\n",
    "    def ciri(self):\n",
    "        print('Hewan pada umumnya')\n",
    "\n",
    "class Vertebrata(Animal):   #Inheritance dari Animal\n",
    "    def __init__(self,nama):\n",
    "        super().__init__(nama)\n",
    "        self.tulang_belakang = True #Properties Khusus dari Vertebrata\n",
    "    def ciri(self): #Polymorphism\n",
    "        print('Hewan',self.nama,'memiliki tulang belakang =',self.tulang_belakang)\n",
    "class Invertebrata(Animal): #Inheritance dari Animal\n",
    "    def __init__(self,nama):\n",
    "        super().__init__(nama)\n",
    "        self.tulang_belakang = False #Properties Khusus dari Invertebrata\n",
    "    def ciri(self): #Polymorphism\n",
    "        print('Hewan',self.nama,'tidak memiliki tulang belakang =',self.tulang_belakang)\n",
    "        \n",
    "class WarmBlood(Vertebrata): #Inheritance dari Vertebrata -> Animal\n",
    "    def __init__(self,nama):\n",
    "        super().__init__(nama)\n",
    "        self.blood = 'hangat'\n",
    "    def ciri(self):\n",
    "        print('Hewan',self.nama,'memiliki tulang belakang =',self.tulang_belakang,'dan berdarah',self.blood)\n",
    "class ColdBlood(Vertebrata): #Inheritance dari Vertebrata -> Animal\n",
    "    def __init__(self,nama):\n",
    "        super().__init__(nama)\n",
    "        self.blood = 'dingin'\n",
    "    def ciri(self):\n",
    "        print('Hewan',self.nama,'memiliki tulang belakang =',self.tulang_belakang,'dan berdarah',self.blood)\n",
    "        \n",
    "class JointedLegs(Invertebrata): #Inheritance dari Invertebrata -> Animal\n",
    "    def __init__(self,nama):\n",
    "        super().__init__(nama)\n",
    "        self.kaki = True\n",
    "    def ciri(self):\n",
    "        print('Hewan',self.nama,'memiliki tulang belakang =',self.tulang_belakang,'dan kaki =',self.kaki)\n",
    "class WithoutLegs(Invertebrata): #Inheritance dari Invertebrata -> Animal\n",
    "    def __init__(self,nama):\n",
    "        super().__init__(nama)\n",
    "        self.kaki = False\n",
    "    def ciri(self):\n",
    "        print('Hewan',self.nama,'memiliki tulang belakang =',self.tulang_belakang,'dan kaki =',self.kaki)"
   ]
  },
  {
   "cell_type": "code",
   "execution_count": 48,
   "metadata": {},
   "outputs": [
    {
     "name": "stdout",
     "output_type": "stream",
     "text": [
      "Hewan Ikan Salmon memiliki tulang belakang = True dan berdarah dingin\n",
      "Hewan Kalajengking memiliki tulang belakang = False dan kaki = True\n"
     ]
    }
   ],
   "source": [
    "salmon = ColdBlood('Ikan Salmon')\n",
    "salmon.ciri()\n",
    "\n",
    "scorpion = JointedLegs('Kalajengking')\n",
    "scorpion.ciri()"
   ]
  },
  {
   "cell_type": "markdown",
   "metadata": {},
   "source": [
    "# Inheritance (functions, methods, class hierarchies, polymorphism, composition, single vs multiple inheritance) "
   ]
  },
  {
   "attachments": {
    "5afc4a6dfa008a552c43c806c647923e22ad25fd.png": {
     "image/png": "[encoded data removed]"
    }
   },
   "cell_type": "markdown",
   "metadata": {},
   "source": [
    "## Inheritance - why and how?\n",
    "\n",
    "Pewarisan adalah praktik umum (dalam pemrograman objek) untuk meneruskan atribut dan metode dari superclass (ditentukan dan sudah ada) ke kelas yang baru dibuat, yang disebut subclass. \n",
    "\n",
    "![5afc4a6dfa008a552c43c806c647923e22ad25fd.png](attachment:5afc4a6dfa008a552c43c806c647923e22ad25fd.png)\n"
   ]
  },
  {
   "cell_type": "code",
   "execution_count": null,
   "metadata": {},
   "outputs": [],
   "source": [
    "class Vehicle:\n",
    "    pass\n",
    "\n",
    "class LandVehicle(Vehicle):\n",
    "    pass\n",
    "\n",
    "class TrackedVehicle(LandVehicle):\n",
    "    pass"
   ]
  },
  {
   "cell_type": "markdown",
   "metadata": {
    "colab_type": "text",
    "id": "vhc4wBzAJelm"
   },
   "source": [
    "### Multiple Inheritance"
   ]
  },
  {
   "cell_type": "code",
   "execution_count": 49,
   "metadata": {
    "colab": {},
    "colab_type": "code",
    "id": "Lz1Hso6hJelm"
   },
   "outputs": [
    {
     "name": "stdout",
     "output_type": "stream",
     "text": [
      "L LL RR Left\n"
     ]
    }
   ],
   "source": [
    "class Left:\n",
    "    var = \"L\"\n",
    "    varLeft = \"LL\"\n",
    "    def fun(self):\n",
    "        return \"Left\"\n",
    "\n",
    "class Right:\n",
    "    var = \"R\"\n",
    "    varRight = \"RR\"\n",
    "    def fun(self):\n",
    "        return \"Right\"\n",
    "\n",
    "class Sub(Left, Right):\n",
    "    pass\n",
    "\n",
    "obj = Sub()\n",
    "\n",
    "print(obj.var, obj.varLeft, obj.varRight, obj.fun())"
   ]
  },
  {
   "cell_type": "markdown",
   "metadata": {},
   "source": [
    "## `issubclass(a,b)`\n",
    "apakah suatu class adalah turunan/sub dari class lain?\n",
    "\n",
    "Bernilai `true` jika a adalah subclass dari b, a dan b sama-sama suatu class"
   ]
  },
  {
   "cell_type": "code",
   "execution_count": 50,
   "metadata": {},
   "outputs": [
    {
     "name": "stdout",
     "output_type": "stream",
     "text": [
      "True\n",
      "False\n"
     ]
    }
   ],
   "source": [
    "print(issubclass(Sub, Left))\n",
    "print(issubclass(Right, Sub))"
   ]
  },
  {
   "cell_type": "markdown",
   "metadata": {},
   "source": [
    "## `isinstance(a,b)`\n",
    "apakah suatu objek adalah instance dari suatu class?\n",
    "\n",
    "Bernilai `true` jika a adalah object/instance dari class b, a adalah object dan b adalah class"
   ]
  },
  {
   "cell_type": "code",
   "execution_count": 51,
   "metadata": {},
   "outputs": [
    {
     "name": "stdout",
     "output_type": "stream",
     "text": [
      "True\n",
      "True\n",
      "True\n"
     ]
    }
   ],
   "source": [
    "print(isinstance(obj, Left))\n",
    "print(isinstance(obj, Right))\n",
    "print(isinstance(obj, Sub))"
   ]
  },
  {
   "cell_type": "code",
   "execution_count": null,
   "metadata": {},
   "outputs": [],
   "source": [
    "class SubSub(Sub):\n",
    "    pass\n",
    "\n",
    "obj_SubSub = SubSub()\n",
    "\n",
    "print(issubclass(SubSub, Sub))\n",
    "print(issubclass(SubSub, Right))\n",
    "\n",
    "print(isinstance(obj_SubSub, Right))"
   ]
  },
  {
   "cell_type": "markdown",
   "metadata": {},
   "source": [
    "## `is` Operator\n",
    "`is` operator memperlihatkan apakah dua variable (`object_one` and `object_two`) mengacu ke object yang sama."
   ]
  },
  {
   "cell_type": "code",
   "execution_count": 54,
   "metadata": {},
   "outputs": [
    {
     "name": "stdout",
     "output_type": "stream",
     "text": [
      "Mary had a little lamb\n",
      "Mary had a little lamb\n",
      "True\n",
      "False\n"
     ]
    }
   ],
   "source": [
    "string_1 = \"Mary had a little \"\n",
    "string_2 = \"Mary had a little lamb\"\n",
    "string_1 += \"lamb\"\n",
    "\n",
    "print(string_1)\n",
    "print(string_2)\n",
    "print(string_1 == string_2)\n",
    "print(string_1 is string_2)"
   ]
  },
  {
   "cell_type": "code",
   "execution_count": 55,
   "metadata": {},
   "outputs": [
    {
     "name": "stdout",
     "output_type": "stream",
     "text": [
      "False\n",
      "False\n",
      "True\n",
      "100 2 100\n",
      "<__main__.SampleClass object at 0x000001FF3EAF1EB0> <__main__.SampleClass object at 0x000001FF3EAF1EB0>\n"
     ]
    }
   ],
   "source": [
    "class SampleClass:\n",
    "    def __init__(self, val):\n",
    "        self.val = val\n",
    "\n",
    "object_1 = SampleClass(0)\n",
    "object_2 = SampleClass(2)\n",
    "object_3 = object_1\n",
    "object_3.val += 1\n",
    "object_1.val = 100\n",
    "\n",
    "print(object_1 is object_2)\n",
    "print(object_2 is object_3)\n",
    "print(object_3 is object_1)\n",
    "print(object_1.val, object_2.val, object_3.val)\n",
    "\n",
    "print(object_1, object_3)"
   ]
  },
  {
   "cell_type": "markdown",
   "metadata": {},
   "source": [
    "## Deeper about inheritance\n",
    "### Deeper about inheritance : using parent constructor"
   ]
  },
  {
   "cell_type": "code",
   "execution_count": null,
   "metadata": {},
   "outputs": [],
   "source": [
    "class Super:\n",
    "    def __init__(self, name):\n",
    "        self.name = name\n",
    "\n",
    "    def __str__(self):\n",
    "        return \"My name is \" + self.name + \".\"\n",
    "\n",
    "class Sub(Super):\n",
    "    def __init__(self, name):\n",
    "        super().__init__(name) #pakai super(), nama superclass tidak perlu diketahui\n",
    "\n",
    "obj = Sub(\"Andy\")\n",
    "\n",
    "print(obj)\n"
   ]
  },
  {
   "cell_type": "markdown",
   "metadata": {},
   "source": [
    "### Deeper about inheritance: Testing class variables."
   ]
  },
  {
   "cell_type": "code",
   "execution_count": null,
   "metadata": {},
   "outputs": [],
   "source": [
    "class Super:\n",
    "    supVar = 1\n",
    "\n",
    "class Sub(Super):\n",
    "    subVar = 2\n",
    "\n",
    "obj = Sub()\n",
    "\n",
    "print(obj.subVar)\n",
    "print(obj.supVar)"
   ]
  },
  {
   "cell_type": "markdown",
   "metadata": {},
   "source": [
    "### Deeper about inheritance: Testing instance variables."
   ]
  },
  {
   "cell_type": "code",
   "execution_count": null,
   "metadata": {},
   "outputs": [],
   "source": [
    "class Super:\n",
    "    def __init__(self):\n",
    "        self.supVar = 11\n",
    "\n",
    "\n",
    "class Sub(Super):\n",
    "    def __init__(self):\n",
    "        super().__init__()\n",
    "        self.subVar = 12\n",
    "\n",
    "\n",
    "obj = Sub()\n",
    "\n",
    "print(obj.subVar)\n",
    "print(obj.supVar)\n"
   ]
  },
  {
   "cell_type": "markdown",
   "metadata": {},
   "source": [
    "## Bagaimana Python mencari properties dan methods?\n",
    "\n",
    "- mencarinya dalam objek itu sendiri\n",
    "- mencari pada classes yang terlibat dalam pembuatan object inheritance dari bawah ke atas\n",
    "- jika terdapat satu atau lebih class dalam tingkatan jalur inheritance, Python mencari dari kiri ke kanan\n"
   ]
  },
  {
   "cell_type": "code",
   "execution_count": null,
   "metadata": {},
   "outputs": [],
   "source": [
    "class Level1:\n",
    "    var = 100\n",
    "    def fun(self):\n",
    "        return 101\n",
    "\n",
    "class Level2(Level1):\n",
    "    var = 200\n",
    "    def fun(self):\n",
    "        return 201\n",
    "\n",
    "class Level3(Level2):\n",
    "    pass\n",
    "\n",
    "obj = Level3()\n",
    "\n",
    "print(obj.var, obj.fun())"
   ]
  },
  {
   "cell_type": "code",
   "execution_count": null,
   "metadata": {},
   "outputs": [],
   "source": [
    "class Level1:\n",
    "    var = 100\n",
    "    def fun(self):\n",
    "        return 101\n",
    "\n",
    "class Level2:\n",
    "    var = 200\n",
    "    def fun(self):\n",
    "        return 201\n",
    "\n",
    "class Level3(Level1, Level2):\n",
    "    pass\n",
    "\n",
    "obj = Level3()\n",
    "\n",
    "print(obj.var, obj.fun())"
   ]
  },
  {
   "cell_type": "markdown",
   "metadata": {},
   "source": [
    "### Method Resolution Order "
   ]
  },
  {
   "cell_type": "code",
   "execution_count": null,
   "metadata": {},
   "outputs": [],
   "source": [
    "class Top:\n",
    "    def m_top(self):\n",
    "        print(\"top\")\n",
    "\n",
    "class Middle(Top):\n",
    "    def m_middle(self):\n",
    "        print(\"middle\")"
   ]
  },
  {
   "cell_type": "code",
   "execution_count": null,
   "metadata": {},
   "outputs": [],
   "source": [
    "# MRO Problem\n",
    "class Bottom(Top, Middle):\n",
    "    def m_bottom(self):\n",
    "        print(\"bottom\")\n",
    "\n",
    "object = Bottom()\n",
    "object.m_bottom()\n",
    "object.m_middle()\n",
    "object.m_top()"
   ]
  },
  {
   "cell_type": "code",
   "execution_count": null,
   "metadata": {},
   "outputs": [],
   "source": [
    "class Bottom(Middle, Top):\n",
    "    def m_bottom(self):\n",
    "        print(\"bottom\")\n",
    "\n",
    "object = Bottom()\n",
    "object.m_bottom()\n",
    "object.m_middle()\n",
    "object.m_top()"
   ]
  },
  {
   "attachments": {
    "f87d143baf9957080a28751bcdc696ed26d14f86.png": {
     "image/png": "[encoded data removed]"
    }
   },
   "cell_type": "markdown",
   "metadata": {},
   "source": [
    "### Diamond Problem\n",
    "\n",
    "![f87d143baf9957080a28751bcdc696ed26d14f86.png](attachment:f87d143baf9957080a28751bcdc696ed26d14f86.png)"
   ]
  },
  {
   "cell_type": "code",
   "execution_count": 56,
   "metadata": {},
   "outputs": [
    {
     "name": "stdout",
     "output_type": "stream",
     "text": [
      "bottom\n",
      "middle_left\n",
      "top\n"
     ]
    }
   ],
   "source": [
    "# Diamond Problem\n",
    "class Top: #A\n",
    "    def m_top(self):\n",
    "        print(\"top\")\n",
    "        \n",
    "class Middle_Left(Top): #B\n",
    "    def m_middle(self):\n",
    "        print(\"middle_left\")\n",
    "\n",
    "class Middle_Right(Top): #C\n",
    "    def m_middle(self):\n",
    "        print(\"middle_right\")\n",
    "\n",
    "class Bottom(Middle_Left, Middle_Right): #D\n",
    "    def m_bottom(self):\n",
    "        print(\"bottom\")\n",
    "\n",
    "object = Bottom()\n",
    "object.m_bottom()\n",
    "object.m_middle()\n",
    "object.m_top()"
   ]
  },
  {
   "cell_type": "markdown",
   "metadata": {
    "colab_type": "text",
    "id": "plh19QJ3Jelo"
   },
   "source": [
    "# Bentuk Asli Exception pada Python\n",
    "\n",
    "Pada dasarnya, semua exception adalah class. Ketika suatu exception di-raise, object dari kelas itu dibuat/di-initiate (masuk ke dalam method constructor) dan masuk ke semua level eksekusi program, mencari tempatnya dalam tree exception tadi.\n",
    "\n",
    "Bisa kita lihat, ketika `except` diextend (ubah menjadi nama lain dengan `as`), dapat dilihat beberapa identifier yang bisa digunakan untuk menganalisa bentuk exception itu sendiri. Sebagai contoh, bisa digunakan method `__str__()` untuk melihat pesan singkat yang menjelaskan penyebab dari error. "
   ]
  },
  {
   "cell_type": "code",
   "execution_count": null,
   "metadata": {
    "cell_style": "split",
    "colab": {},
    "colab_type": "code",
    "id": "fNu-nWx4Jelp"
   },
   "outputs": [],
   "source": [
    "def reciprocal(n):\n",
    "    try:\n",
    "        n = 1 / n\n",
    "    except ZeroDivisionError:\n",
    "        print(\"Division failed\")\n",
    "        n = None\n",
    "    else:\n",
    "        print(\"Everything went fine\")\n",
    "    finally:\n",
    "        print(\"It's time to say goodbye\")\n",
    "        return n\n",
    "\n",
    "print(reciprocal(2))\n",
    "print(reciprocal(0))"
   ]
  },
  {
   "cell_type": "code",
   "execution_count": 57,
   "metadata": {
    "cell_style": "split",
    "colab": {},
    "colab_type": "code",
    "id": "XgkMMSnpJelr"
   },
   "outputs": [
    {
     "name": "stdout",
     "output_type": "stream",
     "text": [
      "invalid literal for int() with base 10: 'Hello!'\n",
      "invalid literal for int() with base 10: 'Hello!'\n"
     ]
    }
   ],
   "source": [
    "try:\n",
    "    i = int(\"Hello!\")\n",
    "except Exception as e:\n",
    "    print(e)\n",
    "    print(e.__str__())"
   ]
  },
  {
   "cell_type": "markdown",
   "metadata": {},
   "source": [
    "## Exception adalah class\n",
    "\n",
    "Semua exception di Python berbentuk suatu hierarki dalam class. Dapat dilihat pada kode di bawah ini, ini adalah suatu program untuk menampilkan semua class exception yang sudah ada di python dengan bentuk seperti pohon/tree."
   ]
  },
  {
   "cell_type": "code",
   "execution_count": 64,
   "metadata": {},
   "outputs": [
    {
     "name": "stdout",
     "output_type": "stream",
     "text": [
      "BaseException\n",
      "   +---Exception\n",
      "   |   +---TypeError\n",
      "   |   |   +---FloatOperation\n",
      "   |   |   +---MultipartConversionError\n",
      "   |   |   +---UFuncTypeError\n",
      "   |   |   |   +---UFuncTypeError\n",
      "   |   |   |   +---UFuncTypeError\n",
      "   |   |   |   +---UFuncTypeError\n",
      "   |   |   |   |   +---UFuncTypeError\n",
      "   |   |   |   |   +---UFuncTypeError\n",
      "   |   |   +---ApplyTypeError\n",
      "   |   |   +---ArrowTypeError\n",
      "   |   +---StopAsyncIteration\n",
      "   |   +---StopIteration\n",
      "   |   +---ImportError\n",
      "   |   |   +---ModuleNotFoundError\n",
      "   |   |   |   +---PackageNotFoundError\n",
      "   |   |   +---ZipImportError\n",
      "   |   +---OSError\n",
      "   |   |   +---ConnectionError\n",
      "   |   |   |   +---BrokenPipeError\n",
      "   |   |   |   +---ConnectionAbortedError\n",
      "   |   |   |   +---ConnectionRefusedError\n",
      "   |   |   |   +---ConnectionResetError\n",
      "   |   |   |   |   +---RemoteDisconnected\n",
      "   |   |   +---BlockingIOError\n",
      "   |   |   +---ChildProcessError\n",
      "   |   |   +---FileExistsError\n",
      "   |   |   +---FileNotFoundError\n",
      "   |   |   +---IsADirectoryError\n",
      "   |   |   +---NotADirectoryError\n",
      "   |   |   +---InterruptedError\n",
      "   |   |   |   +---InterruptedSystemCall\n",
      "   |   |   +---PermissionError\n",
      "   |   |   +---ProcessLookupError\n",
      "   |   |   +---TimeoutError\n",
      "   |   |   +---UnsupportedOperation\n",
      "   |   |   +---herror\n",
      "   |   |   +---gaierror\n",
      "   |   |   +---timeout\n",
      "   |   |   +---SSLError\n",
      "   |   |   |   +---SSLCertVerificationError\n",
      "   |   |   |   +---SSLZeroReturnError\n",
      "   |   |   |   +---SSLWantReadError\n",
      "   |   |   |   +---SSLWantWriteError\n",
      "   |   |   |   +---SSLSyscallError\n",
      "   |   |   |   +---SSLEOFError\n",
      "   |   |   +---Error\n",
      "   |   |   |   +---SameFileError\n",
      "   |   |   +---SpecialFileError\n",
      "   |   |   +---ExecError\n",
      "   |   |   +---ReadError\n",
      "   |   |   +---URLError\n",
      "   |   |   |   +---HTTPError\n",
      "   |   |   |   +---ContentTooShortError\n",
      "   |   |   +---BadGzipFile\n",
      "   |   |   +---DatabaseError\n",
      "   |   +---EOFError\n",
      "   |   |   +---IncompleteReadError\n",
      "   |   +---RuntimeError\n",
      "   |   |   +---RecursionError\n",
      "   |   |   +---NotImplementedError\n",
      "   |   |   |   +---ZMQVersionError\n",
      "   |   |   |   +---StdinNotImplementedError\n",
      "   |   |   |   +---AbstractMethodError\n",
      "   |   |   |   +---ArrowNotImplementedError\n",
      "   |   |   +---_DeadlockError\n",
      "   |   |   +---BrokenBarrierError\n",
      "   |   |   +---BrokenExecutor\n",
      "   |   |   |   +---BrokenThreadPool\n",
      "   |   |   +---SendfileNotAvailableError\n",
      "   |   |   +---ExtractionError\n",
      "   |   |   +---RemovedCommandError\n",
      "   |   |   +---PackageDiscoveryError\n",
      "   |   |   +---VariableError\n",
      "   |   |   +---TooHardError\n",
      "   |   |   +---PyperclipException\n",
      "   |   |   |   +---PyperclipWindowsException\n",
      "   |   +---NameError\n",
      "   |   |   +---UnboundLocalError\n",
      "   |   |   +---NumExprClobberingError\n",
      "   |   |   +---UndefinedVariableError\n",
      "   |   +---AttributeError\n",
      "   |   |   +---OptionError\n",
      "   |   |   +---FrozenInstanceError\n",
      "   |   +---SyntaxError\n",
      "   |   |   +---IndentationError\n",
      "   |   |   |   +---TabError\n",
      "   |   +---LookupError\n",
      "   |   |   +---IndexError\n",
      "   |   |   |   +---AxisError\n",
      "   |   |   |   +---ArrowIndexError\n",
      "   |   |   +---KeyError\n",
      "   |   |   |   +---NoSuchKernel\n",
      "   |   |   |   +---UnknownBackend\n",
      "   |   |   |   +---UnknownTimeZoneError\n",
      "   |   |   |   +---OptionError\n",
      "   |   |   |   +---UnsortedIndexError\n",
      "   |   |   |   +---ArrowKeyError\n",
      "   |   |   +---CodecRegistryError\n",
      "   |   +---ValueError\n",
      "   |   |   +---UnicodeError\n",
      "   |   |   |   +---UnicodeEncodeError\n",
      "   |   |   |   +---UnicodeDecodeError\n",
      "   |   |   |   +---UnicodeTranslateError\n",
      "   |   |   +---UnsupportedOperation\n",
      "   |   |   +---JSONDecodeError\n",
      "   |   |   +---SSLCertVerificationError\n",
      "   |   |   +---Error\n",
      "   |   |   +---IllegalMonthError\n",
      "   |   |   +---IllegalWeekdayError\n",
      "   |   |   +---ParserError\n",
      "   |   |   +---ClassNotFound\n",
      "   |   |   +---ClipboardEmpty\n",
      "   |   |   +---MessageDefect\n",
      "   |   |   |   +---NoBoundaryInMultipartDefect\n",
      "   |   |   |   +---StartBoundaryNotFoundDefect\n",
      "   |   |   |   +---CloseBoundaryNotFoundDefect\n",
      "   |   |   |   +---FirstHeaderLineIsContinuationDefect\n",
      "   |   |   |   +---MisplacedEnvelopeHeaderDefect\n",
      "   |   |   |   +---MissingHeaderBodySeparatorDefect\n",
      "   |   |   |   +---MultipartInvariantViolationDefect\n",
      "   |   |   |   +---InvalidMultipartContentTransferEncodingDefect\n",
      "   |   |   |   +---UndecodableBytesDefect\n",
      "   |   |   |   +---InvalidBase64PaddingDefect\n",
      "   |   |   |   +---InvalidBase64CharactersDefect\n",
      "   |   |   |   +---InvalidBase64LengthDefect\n",
      "   |   |   |   +---HeaderDefect\n",
      "   |   |   |   |   +---InvalidHeaderDefect\n",
      "   |   |   |   |   +---HeaderMissingRequiredValue\n",
      "   |   |   |   |   +---NonPrintableDefect\n",
      "   |   |   |   |   +---ObsoleteHeaderDefect\n",
      "   |   |   |   |   +---NonASCIILocalPartDefect\n",
      "   |   |   +---MacroToEdit\n",
      "   |   |   +---InvalidFileException\n",
      "   |   |   +---UnequalIterablesError\n",
      "   |   |   +---InvalidVersion\n",
      "   |   |   +---_InvalidELFFileHeader\n",
      "   |   |   +---InvalidWheelFilename\n",
      "   |   |   +---InvalidSdistFilename\n",
      "   |   |   +---InvalidSpecifier\n",
      "   |   |   +---InvalidMarker\n",
      "   |   |   +---UndefinedComparison\n",
      "   |   |   +---UndefinedEnvironmentName\n",
      "   |   |   +---InvalidRequirement\n",
      "   |   |   |   +---RequirementParseError\n",
      "   |   |   +---UnequalIterablesError\n",
      "   |   |   +---_InvalidELFFileHeader\n",
      "   |   |   +---InvalidVersion\n",
      "   |   |   +---InvalidWheelFilename\n",
      "   |   |   +---InvalidSdistFilename\n",
      "   |   |   +---InvalidSpecifier\n",
      "   |   |   +---InvalidMarker\n",
      "   |   |   +---UndefinedComparison\n",
      "   |   |   +---UndefinedEnvironmentName\n",
      "   |   |   +---InvalidRequirement\n",
      "   |   |   +---InvalidVersion\n",
      "   |   |   +---AxisError\n",
      "   |   |   +---OutOfBoundsDatetime\n",
      "   |   |   +---OutOfBoundsTimedelta\n",
      "   |   |   +---InvalidVersion\n",
      "   |   |   +---DateParseError\n",
      "   |   |   +---IncompatibleFrequency\n",
      "   |   |   +---IntCastingNaNError\n",
      "   |   |   +---NullFrequencyError\n",
      "   |   |   +---UnsupportedFunctionCall\n",
      "   |   |   +---ParserError\n",
      "   |   |   +---EmptyDataError\n",
      "   |   |   +---MergeError\n",
      "   |   |   +---DuplicateLabelError\n",
      "   |   |   +---SettingWithCopyError\n",
      "   |   |   +---ArrowInvalid\n",
      "   |   +---AssertionError\n",
      "   |   +---ArithmeticError\n",
      "   |   |   +---FloatingPointError\n",
      "   |   |   +---OverflowError\n",
      "   |   |   +---ZeroDivisionError\n",
      "   |   |   |   +---DivisionByZero\n",
      "   |   |   |   +---DivisionUndefined\n",
      "   |   |   |   +---MyZeroDivisionError\n",
      "   |   |   +---DecimalException\n",
      "   |   |   |   +---Clamped\n",
      "   |   |   |   +---Rounded\n",
      "   |   |   |   |   +---Underflow\n",
      "   |   |   |   |   +---Overflow\n",
      "   |   |   |   +---Inexact\n",
      "   |   |   |   |   +---Underflow\n",
      "   |   |   |   |   +---Overflow\n",
      "   |   |   |   +---Subnormal\n",
      "   |   |   |   |   +---Underflow\n",
      "   |   |   |   +---DivisionByZero\n",
      "   |   |   |   +---FloatOperation\n",
      "   |   |   |   +---InvalidOperation\n",
      "   |   |   |   |   +---ConversionSyntax\n",
      "   |   |   |   |   +---DivisionImpossible\n",
      "   |   |   |   |   +---DivisionUndefined\n",
      "   |   |   |   |   +---InvalidContext\n",
      "   |   +---SystemError\n",
      "   |   |   +---CodecRegistryError\n",
      "   |   +---ReferenceError\n",
      "   |   +---MemoryError\n",
      "   |   |   +---MemoryError\n",
      "   |   |   +---ArrowMemoryError\n",
      "   |   +---BufferError\n",
      "   |   +---Warning\n",
      "   |   |   +---UserWarning\n",
      "   |   |   |   +---GetPassWarning\n",
      "   |   |   |   +---FormatterWarning\n",
      "   |   |   |   +---_WouldIgnoreField\n",
      "   |   |   |   +---_ExperimentalProjectMetadata\n",
      "   |   |   |   +---_InvalidFile\n",
      "   |   |   |   +---VisibleDeprecationWarning\n",
      "   |   |   |   +---RankWarning\n",
      "   |   |   |   +---ConversionWarning\n",
      "   |   |   |   +---RankWarning\n",
      "   |   |   |   +---CSSWarning\n",
      "   |   |   +---DeprecationWarning\n",
      "   |   |   |   +---ProvisionalWarning\n",
      "   |   |   |   +---ModuleDeprecationWarning\n",
      "   |   |   +---PendingDeprecationWarning\n",
      "   |   |   +---SyntaxWarning\n",
      "   |   |   +---RuntimeWarning\n",
      "   |   |   |   +---ProactorSelectorThreadWarning\n",
      "   |   |   |   +---UnknownTimezoneWarning\n",
      "   |   |   |   +---PEP440Warning\n",
      "   |   |   |   +---ComplexWarning\n",
      "   |   |   +---FutureWarning\n",
      "   |   |   |   +---ProvisionalCompleterWarning\n",
      "   |   |   |   +---MaskedArrayFutureWarning\n",
      "   |   |   +---ImportWarning\n",
      "   |   |   +---UnicodeWarning\n",
      "   |   |   +---BytesWarning\n",
      "   |   |   +---ResourceWarning\n",
      "   |   |   +---DeprecatedTzFormatWarning\n",
      "   |   |   +---SetuptoolsDeprecationWarning\n",
      "   |   |   |   +---DistDeprecationWarning\n",
      "   |   |   +---PkgResourcesDeprecationWarning\n",
      "   |   |   +---PerformanceWarning\n",
      "   |   |   +---DtypeWarning\n",
      "   |   |   +---ParserWarning\n",
      "   |   |   +---AccessorRegistrationWarning\n",
      "   |   |   +---SettingWithCopyWarning\n",
      "   |   |   +---IncompatibilityWarning\n",
      "   |   |   +---AttributeConflictWarning\n",
      "   |   |   +---PossiblePrecisionLoss\n",
      "   |   |   +---ValueLabelTypeMismatch\n",
      "   |   |   +---InvalidColumnName\n",
      "   |   |   +---CategoricalConversionWarning\n",
      "   |   +---Error\n",
      "   |   +---_OptionError\n",
      "   |   +---_Error\n",
      "   |   +---error\n",
      "   |   +---Verbose\n",
      "   |   +---SubprocessError\n",
      "   |   |   +---CalledProcessError\n",
      "   |   |   +---TimeoutExpired\n",
      "   |   +---TokenError\n",
      "   |   +---StopTokenizing\n",
      "   |   +---EndOfBlock\n",
      "   |   +---TraitError\n",
      "   |   +---Error\n",
      "   |   +---Error\n",
      "   |   |   +---CancelledError\n",
      "   |   |   +---TimeoutError\n",
      "   |   |   +---InvalidStateError\n",
      "   |   +---_GiveupOnSendfile\n",
      "   |   +---error\n",
      "   |   +---Incomplete\n",
      "   |   +---TimeoutError\n",
      "   |   +---InvalidStateError\n",
      "   |   +---LimitOverrunError\n",
      "   |   +---QueueEmpty\n",
      "   |   +---QueueFull\n",
      "   |   +---error\n",
      "   |   +---LZMAError\n",
      "   |   +---RegistryError\n",
      "   |   +---_GiveupOnFastCopy\n",
      "   |   +---Empty\n",
      "   |   +---Full\n",
      "   |   +---ZMQBaseError\n",
      "   |   |   +---ZMQError\n",
      "   |   |   |   +---ContextTerminated\n",
      "   |   |   |   +---Again\n",
      "   |   |   |   +---InterruptedSystemCall\n",
      "   |   |   +---ZMQBindError\n",
      "   |   |   +---NotDone\n",
      "   |   +---PickleError\n",
      "   |   |   +---PicklingError\n",
      "   |   |   +---UnpicklingError\n",
      "   |   +---_Stop\n",
      "   |   +---ArgumentError\n",
      "   |   +---ArgumentTypeError\n",
      "   |   +---ConfigError\n",
      "   |   |   +---ConfigLoaderError\n",
      "   |   |   |   +---ArgumentError\n",
      "   |   |   +---ConfigFileNotFound\n",
      "   |   +---ConfigurableError\n",
      "   |   |   +---MultipleInstanceError\n",
      "   |   +---ApplicationError\n",
      "   |   +---TimeoutError\n",
      "   |   +---COMError\n",
      "   |   +---ArgumentError\n",
      "   |   +---ReturnValueIgnoredError\n",
      "   |   +---KeyReuseError\n",
      "   |   +---UnknownKeyError\n",
      "   |   +---LeakedCallbackError\n",
      "   |   +---BadYieldError\n",
      "   |   +---ReturnValueIgnoredError\n",
      "   |   +---Return\n",
      "   |   +---InvalidPortNumber\n",
      "   |   +---NoIPAddresses\n",
      "   |   +---BadZipFile\n",
      "   |   +---LargeZipFile\n",
      "   |   +---Error\n",
      "   |   |   +---NoSectionError\n",
      "   |   |   +---DuplicateSectionError\n",
      "   |   |   +---DuplicateOptionError\n",
      "   |   |   +---NoOptionError\n",
      "   |   |   +---InterpolationError\n",
      "   |   |   |   +---InterpolationMissingOptionError\n",
      "   |   |   |   +---InterpolationSyntaxError\n",
      "   |   |   |   +---InterpolationDepthError\n",
      "   |   |   +---ParsingError\n",
      "   |   |   |   +---MissingSectionHeaderError\n",
      "   |   +---BadEntryPoint\n",
      "   |   +---NoSuchEntryPoint\n",
      "   |   +---DuplicateKernelError\n",
      "   |   +---ErrorDuringImport\n",
      "   |   +---NotOneValueFound\n",
      "   |   +---CannotEval\n",
      "   |   +---OptionError\n",
      "   |   +---BdbQuit\n",
      "   |   +---Restart\n",
      "   |   +---FindCmdError\n",
      "   |   +---HomeDirError\n",
      "   |   +---ProfileDirError\n",
      "   |   +---IPythonCoreError\n",
      "   |   |   +---TryNext\n",
      "   |   |   +---UsageError\n",
      "   |   |   +---StdinNotImplementedError\n",
      "   |   +---InputRejected\n",
      "   |   +---GetoptError\n",
      "   |   +---ErrorToken\n",
      "   |   +---PrefilterError\n",
      "   |   +---AliasError\n",
      "   |   |   +---InvalidAliasError\n",
      "   |   +---Error\n",
      "   |   |   +---InterfaceError\n",
      "   |   |   +---DatabaseError\n",
      "   |   |   |   +---InternalError\n",
      "   |   |   |   +---OperationalError\n",
      "   |   |   |   +---ProgrammingError\n",
      "   |   |   |   +---IntegrityError\n",
      "   |   |   |   +---DataError\n",
      "   |   |   |   +---NotSupportedError\n",
      "   |   +---Warning\n",
      "   |   +---SpaceInInput\n",
      "   |   +---DOMException\n",
      "   |   |   +---IndexSizeErr\n",
      "   |   |   +---DomstringSizeErr\n",
      "   |   |   +---HierarchyRequestErr\n",
      "   |   |   +---WrongDocumentErr\n",
      "   |   |   +---InvalidCharacterErr\n",
      "   |   |   +---NoDataAllowedErr\n",
      "   |   |   +---NoModificationAllowedErr\n",
      "   |   |   +---NotFoundErr\n",
      "   |   |   +---NotSupportedErr\n",
      "   |   |   +---InuseAttributeErr\n",
      "   |   |   +---InvalidStateErr\n",
      "   |   |   +---SyntaxErr\n",
      "   |   |   +---InvalidModificationErr\n",
      "   |   |   +---NamespaceErr\n",
      "   |   |   +---InvalidAccessErr\n",
      "   |   |   +---ValidationErr\n",
      "   |   +---ValidationError\n",
      "   |   +---EditReadOnlyBuffer\n",
      "   |   +---_Retry\n",
      "   |   +---InvalidLayoutError\n",
      "   |   +---HeightIsUnknownError\n",
      "   |   +---ParserSyntaxError\n",
      "   |   +---InternalParseError\n",
      "   |   +---_PositionUpdatingFinished\n",
      "   |   +---SimpleGetItemNotFound\n",
      "   |   +---UncaughtAttributeError\n",
      "   |   +---HasNoContext\n",
      "   |   +---ParamIssue\n",
      "   |   +---_JediError\n",
      "   |   |   +---InternalError\n",
      "   |   |   +---WrongVersion\n",
      "   |   |   +---RefactoringError\n",
      "   |   +---OnErrorLeaf\n",
      "   |   +---InvalidPythonEnvironment\n",
      "   |   +---MessageError\n",
      "   |   |   +---MessageParseError\n",
      "   |   |   |   +---HeaderParseError\n",
      "   |   |   |   |   +---_InvalidEwError\n",
      "   |   |   |   +---BoundaryError\n",
      "   |   |   +---MultipartConversionError\n",
      "   |   |   +---CharsetError\n",
      "   |   +---Error\n",
      "   |   +---HTTPException\n",
      "   |   |   +---NotConnected\n",
      "   |   |   +---InvalidURL\n",
      "   |   |   +---UnknownProtocol\n",
      "   |   |   +---UnknownTransferEncoding\n",
      "   |   |   +---UnimplementedFileMode\n",
      "   |   |   +---IncompleteRead\n",
      "   |   |   +---ImproperConnectionState\n",
      "   |   |   |   +---CannotSendRequest\n",
      "   |   |   |   +---CannotSendHeader\n",
      "   |   |   |   +---ResponseNotReady\n",
      "   |   |   +---BadStatusLine\n",
      "   |   |   |   +---RemoteDisconnected\n",
      "   |   |   +---LineTooLong\n",
      "   |   +---InteractivelyDefined\n",
      "   |   +---KillEmbedded\n",
      "   |   +---Error\n",
      "   |   |   +---NoSuchProcess\n",
      "   |   |   |   +---ZombieProcess\n",
      "   |   |   +---AccessDenied\n",
      "   |   |   +---TimeoutExpired\n",
      "   |   +---Error\n",
      "   |   +---TimeoutExpired\n",
      "   |   +---TimeoutAbandoned\n",
      "   |   +---QueueEmpty\n",
      "   |   +---QueueFull\n",
      "   |   +---DistutilsError\n",
      "   |   |   +---DistutilsModuleError\n",
      "   |   |   +---DistutilsClassError\n",
      "   |   |   +---DistutilsGetoptError\n",
      "   |   |   +---DistutilsArgError\n",
      "   |   |   +---DistutilsFileError\n",
      "   |   |   +---DistutilsOptionError\n",
      "   |   |   +---DistutilsSetupError\n",
      "   |   |   +---DistutilsPlatformError\n",
      "   |   |   +---DistutilsExecError\n",
      "   |   |   +---DistutilsInternalError\n",
      "   |   |   +---DistutilsTemplateError\n",
      "   |   |   +---DistutilsByteCompileError\n",
      "   |   |   +---RemovedCommandError\n",
      "   |   |   +---PackageDiscoveryError\n",
      "   |   +---CCompilerError\n",
      "   |   |   +---PreprocessError\n",
      "   |   |   +---CompileError\n",
      "   |   |   +---LibError\n",
      "   |   |   +---LinkError\n",
      "   |   |   +---UnknownFileError\n",
      "   |   +---ExpatError\n",
      "   |   +---error\n",
      "   |   +---com_error\n",
      "   |   +---internal_error\n",
      "   |   +---ParseBaseException\n",
      "   |   |   +---ParseException\n",
      "   |   |   +---ParseFatalException\n",
      "   |   |   |   +---ParseSyntaxException\n",
      "   |   +---RecursiveGrammarException\n",
      "   |   +---ResolutionError\n",
      "   |   |   +---VersionConflict\n",
      "   |   |   |   +---ContextualVersionConflict\n",
      "   |   |   +---DistributionNotFound\n",
      "   |   |   +---UnknownExtra\n",
      "   |   +---ParseBaseException\n",
      "   |   |   +---ParseException\n",
      "   |   |   +---ParseFatalException\n",
      "   |   |   |   +---ParseSyntaxException\n",
      "   |   +---RecursiveGrammarException\n",
      "   |   +---Error\n",
      "   |   +---Unresolved\n",
      "   |   +---SkipTest\n",
      "   |   +---_ShouldStop\n",
      "   |   +---_UnexpectedSuccess\n",
      "   |   +---Error\n",
      "   |   |   +---ProtocolError\n",
      "   |   |   +---ResponseError\n",
      "   |   |   +---Fault\n",
      "   |   +---UnableToResolveVariableException\n",
      "   |   +---InvalidTypeInArgsException\n",
      "   |   +---LinAlgError\n",
      "   |   +---ConverterError\n",
      "   |   |   +---ConverterLockError\n",
      "   |   +---MAError\n",
      "   |   |   +---MaskError\n",
      "   |   +---Error\n",
      "   |   |   +---UnknownTimeZoneError\n",
      "   |   |   +---InvalidTimeError\n",
      "   |   |   |   +---AmbiguousTimeError\n",
      "   |   |   |   +---NonExistentTimeError\n",
      "   |   +---NumbaUtilError\n",
      "   |   +---InvalidIndexError\n",
      "   |   +---DataError\n",
      "   |   +---SpecificationError\n",
      "   |   +---IndexingError\n",
      "   |   +---PossibleDataLossError\n",
      "   |   +---ClosedFileError\n",
      "   |   +---ArrowException\n",
      "   |   |   +---ArrowInvalid\n",
      "   |   |   +---ArrowMemoryError\n",
      "   |   |   +---ArrowKeyError\n",
      "   |   |   +---ArrowTypeError\n",
      "   |   |   +---ArrowNotImplementedError\n",
      "   |   |   +---ArrowCapacityError\n",
      "   |   |   +---ArrowIndexError\n",
      "   |   |   +---ArrowSerializationError\n",
      "   |   |   |   +---SerializationCallbackError\n",
      "   |   |   |   +---DeserializationCallbackError\n",
      "   |   |   +---ArrowCancelled\n",
      "   |   +---LossySetitemError\n",
      "   |   +---ParseError\n",
      "   |   +---InvalidComparison\n",
      "   |   +---TarError\n",
      "   |   |   +---ExtractError\n",
      "   |   |   +---ReadError\n",
      "   |   |   +---CompressionError\n",
      "   |   |   +---StreamError\n",
      "   |   |   +---HeaderError\n",
      "   |   |   |   +---EmptyHeaderError\n",
      "   |   |   |   +---TruncatedHeaderError\n",
      "   |   |   |   +---EOFHeaderError\n",
      "   |   |   |   +---InvalidHeaderError\n",
      "   |   |   |   +---SubsequentHeaderError\n",
      "   |   +---NoBufferPresent\n",
      "   +---GeneratorExit\n",
      "   +---SystemExit\n",
      "   +---KeyboardInterrupt\n",
      "   +---CancelledError\n",
      "   +---AbortThread\n",
      "   +---AbortThread\n",
      "   +---DebuggerInitializationError\n"
     ]
    }
   ],
   "source": [
    "def print_exception_tree(thisclass, nest = 0):\n",
    "    if nest > 1:\n",
    "        print(\"   |\" * (nest - 1), end=\"\")\n",
    "    if nest > 0:\n",
    "        print(\"   +---\", end=\"\")\n",
    "\n",
    "    print(thisclass.__name__)\n",
    "\n",
    "    for subclass in thisclass.__subclasses__():\n",
    "        print_exception_tree(subclass, nest + 1)\n",
    "\n",
    "\n",
    "print_exception_tree(BaseException)"
   ]
  },
  {
   "cell_type": "markdown",
   "metadata": {},
   "source": [
    "## Anatomi dari Exception\n",
    "\n",
    "`BaseException` memiliki property `args`, suatu tuple yang berfungsi untuk mengambil semua argument yang dipass ke dalam class constructor. `args` kosong jika object yang dibuat sudah di-invoke tanpa argumen, atau jika hanya berisi satu elemen saja ketika constructor hanya butuh satu argument (`self` tidak dihitung)\n",
    "\n",
    "Kode dibnawa\n",
    "\n",
    "We've prepared a simple function to print the args property in an elegant way. You can see the function in the editor.\n",
    "\n",
    "\n",
    "We've used the function to print the contents of the args property in three different cases, where the exception of the Exception class is raised in three different ways. To make it more spectacular, we've also printed the object itself, along with the result of the __str__() invocation.\n",
    "\n",
    "The first case looks routine - there is just the name Exception after the raise keyword. This means that the object of this class has been created in a most routine way.\n",
    "\n",
    "The second and third cases may look a bit weird at first glance, but there's nothing odd here - these are just the constructor invocations. In the second raise statement, the constructor is invoked with one argument, and in the third, with two.\n",
    "\n",
    "As you can see, the program output reflects this, showing the appropriate contents of the args property:"
   ]
  },
  {
   "cell_type": "code",
   "execution_count": null,
   "metadata": {},
   "outputs": [],
   "source": [
    "def print_args(args):\n",
    "    lng = len(args)\n",
    "    if lng == 0:\n",
    "        print(\"\")\n",
    "    elif lng == 1:\n",
    "        print(args[0])\n",
    "    else:\n",
    "        print(str(args))\n",
    "\n",
    "try:\n",
    "    raise Exception\n",
    "except Exception as e:\n",
    "    print(e, e.__str__(), sep=' : ' ,end=' : ')\n",
    "    print_args(e.args)\n",
    "\n",
    "try:\n",
    "    raise Exception(\"my exception\")\n",
    "except Exception as e:\n",
    "    print(e, e.__str__(), sep=' : ', end=' : ')\n",
    "    print_args(e.args)\n",
    "\n",
    "try:\n",
    "    raise Exception(\"my\", \"exception\")\n",
    "except Exception as e:\n",
    "    print(e, , sep=' : ', end=' : ')\n",
    "    print_args(e.args)\n"
   ]
  },
  {
   "cell_type": "markdown",
   "metadata": {},
   "source": [
    "## Membuat exception sendiri\n",
    "\n",
    "The exceptions hierarchy is neither closed nor finished, and you can always extend it if you want or need to create your own world populated with your own exceptions.\n",
    "\n",
    "It may be useful when you create a complex module which detects errors and raises exceptions, and you want the exceptions to be easily distinguishable from any others brought by Python.\n",
    "\n",
    "This is done by defining your own, new exceptions as subclasses derived from predefined ones.\n",
    "\n",
    "Note: if you want to create an exception which will be utilized as a specialized case of any built-in exception, derive it from just this one. If you want to build your own hierarchy, and don't want it to be closely connected to Python's exception tree, derive it from any of the top exception classes, like Exception.\n",
    "\n",
    "Imagine that you've created a brand new arithmetic, ruled by your own laws and theorems. It's clear that division has been redefined, too, and has to behave in a different way than routine dividing. It's also clear that this new division should raise its own exception, different from the built-in ZeroDivisionError, but it's reasonable to assume that in some circumstances, you (or your arithmetic's user) may want to treat all zero divisions in the same way.\n",
    "\n",
    "Demands like these may be fulfilled in the way presented in the editor. Look at the code, and let's analyze it:\n",
    "\n",
    "We've defined our own exception, named MyZeroDivisionError, derived from the built-in ZeroDivisionError. As you can see, we've decided not to add any new components to the class.\n",
    "\n",
    "In effect, an exception of this class can be - depending on the desired point of view - treated like a plain ZeroDivisionError, or considered separately.\n",
    "\n",
    "The do_the_division() function raises either a MyZeroDivisionError or ZeroDivisionError exception, depending on the argument's value.\n",
    "\n",
    "The function is invoked four times in total, while the first two invocations are handled using only one except branch (the more general one) and the last two ones with two different branches, able to distinguish the exceptions (don't forget: the order of the branches makes a fundamental difference!)\n"
   ]
  },
  {
   "cell_type": "code",
   "execution_count": 59,
   "metadata": {},
   "outputs": [],
   "source": [
    "class MyZeroDivisionError(ZeroDivisionError):\n",
    "    pass\n",
    "\n",
    "def do_the_division(mine):\n",
    "    if mine:\n",
    "        raise MyZeroDivisionError(\"some worse news\")\n",
    "    else:\n",
    "        raise ZeroDivisionError(\"some bad news\")"
   ]
  },
  {
   "cell_type": "code",
   "execution_count": 62,
   "metadata": {},
   "outputs": [
    {
     "name": "stdout",
     "output_type": "stream",
     "text": [
      "Division by zero 1\n",
      "Division by zero 1\n"
     ]
    }
   ],
   "source": [
    "for mode in [False, True]:\n",
    "    try:\n",
    "        do_the_division(mode)\n",
    "    except ZeroDivisionError:\n",
    "        print('Division by zero 1')"
   ]
  },
  {
   "cell_type": "code",
   "execution_count": 63,
   "metadata": {
    "scrolled": true
   },
   "outputs": [
    {
     "name": "stdout",
     "output_type": "stream",
     "text": [
      "Original division by zero\n",
      "My division by zero 2\n"
     ]
    }
   ],
   "source": [
    "for mode in [False, True]:\n",
    "    try:\n",
    "        do_the_division(mode)\n",
    "    except MyZeroDivisionError:\n",
    "        print('My division by zero 2')\n",
    "    except ZeroDivisionError:\n",
    "        print('Original division by zero')\n"
   ]
  },
  {
   "cell_type": "markdown",
   "metadata": {},
   "source": [
    "### OneDivisionError"
   ]
  },
  {
   "cell_type": "code",
   "execution_count": 66,
   "metadata": {},
   "outputs": [
    {
     "name": "stdout",
     "output_type": "stream",
     "text": [
      "Zero\n",
      "Tidak Bisa Pembagian dengan 1\n",
      "2.5\n",
      "1.6666666666666667\n",
      "1.25\n"
     ]
    }
   ],
   "source": [
    "class OneDivisionError(ArithmeticError):\n",
    "    def __init__(self, msg):\n",
    "        ArithmeticError.__init__(self, msg)\n",
    "    \n",
    "def bagi(nominator,denominator):\n",
    "    if denominator == 1:\n",
    "        raise OneDivisionError('Tidak Bisa Pembagian dengan 1')\n",
    "    else:\n",
    "        return nominator/denominator\n",
    "\n",
    "for i in range(5):\n",
    "    try:\n",
    "        value = bagi(5,i)\n",
    "    except ZeroDivisionError:\n",
    "        print('Zero')\n",
    "    except OneDivisionError as one:\n",
    "        print(one)\n",
    "    except:\n",
    "        print('Error')\n",
    "    else:\n",
    "        print(value)"
   ]
  },
  {
   "cell_type": "markdown",
   "metadata": {},
   "source": [
    "# Lab"
   ]
  },
  {
   "cell_type": "code",
   "execution_count": null,
   "metadata": {},
   "outputs": [],
   "source": [
    "class PizzaError(Exception):\n",
    "    def __init__(self, pizza, message):\n",
    "        Exception.__init__(self, message)\n",
    "        self.pizza = pizza\n",
    "\n",
    "\n",
    "class TooMuchCheeseError(PizzaError):\n",
    "    def __init__(self, pizza, cheese, message):\n",
    "        PizzaError.__init__(self, pizza, message)\n",
    "        self.cheese = cheese\n"
   ]
  },
  {
   "cell_type": "code",
   "execution_count": null,
   "metadata": {},
   "outputs": [],
   "source": [
    "def make_pizza(pizza, cheese):\n",
    "    if pizza not in ['margherita', 'capricciosa', 'calzone']:\n",
    "        raise PizzaError(pizza, \"no such pizza on the menu\")\n",
    "    if cheese > 100:\n",
    "        raise TooMuchCheeseError(pizza, cheese, \"too much cheese\")\n",
    "    print(\"Pizza ready!\")\n",
    "\n",
    "for (pz, ch) in [('calzone', 0), ('margherita', 110), ('mafia', 20)]:\n",
    "    try:\n",
    "        make_pizza(pz, ch)\n",
    "    except TooMuchCheeseError as tmce:\n",
    "        print(tmce, ':', tmce.cheese)\n",
    "    except PizzaError as pe:\n",
    "        print(pe, ':', pe.pizza)"
   ]
  }
 ],
 "metadata": {
  "colab": {
   "include_colab_link": true,
   "name": "Python OOP .ipynb",
   "provenance": [],
   "toc_visible": true
  },
  "kernelspec": {
   "display_name": "Python 3 (ipykernel)",
   "language": "python",
   "name": "python3"
  },
  "language_info": {
   "codemirror_mode": {
    "name": "ipython",
    "version": 3
   },
   "file_extension": ".py",
   "mimetype": "text/x-python",
   "name": "python",
   "nbconvert_exporter": "python",
   "pygments_lexer": "ipython3",
   "version": "3.11.5"
  },
  "rise": {
   "auto_select": "none",
   "auto_select_fragment": false,
   "scroll": true,
   "theme": "serif",
   "width": "90%"
  }
 },
 "nbformat": 4,
 "nbformat_minor": 1
}
