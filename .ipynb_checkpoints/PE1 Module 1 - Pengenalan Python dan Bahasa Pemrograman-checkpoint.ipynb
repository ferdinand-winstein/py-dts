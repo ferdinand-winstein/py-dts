{
 "cells": [
  {
   "cell_type": "markdown",
   "metadata": {},
   "source": [
    "# <center> Python dan Bahasa Pemrograman</center>\n",
    "\n",
    "oleh : Ferdinand Winstein\n",
    "\n",
    "tanggal : 19-02-2024\n",
    "\n",
    "## Luaran Pembelajaran\n",
    "klik untuk [Open in colab](https://colab.research.google.com/github/ferdinand-winstein/py-dts/blob/master/PE1%20Module%201%20-%20Pengenalan%20Python%20dan%20Bahasa%20Pemrograman.ipynb)\n",
    "- dasar-dasar pemrograman komputer;\n",
    "- mengatur lingkungan pemrograman;\n",
    "- compilation vs interpretation;\n",
    "- pengantar bahasa pemrograman Python.\n",
    "\n",
    "#### Masuk ke Slide Power Point"
   ]
  },
  {
   "cell_type": "code",
   "execution_count": null,
   "metadata": {},
   "outputs": [],
   "source": [
    "# Your First Program\n",
    "\n",
    "print(\"Hello World\")"
   ]
  },
  {
   "cell_type": "markdown",
   "metadata": {},
   "source": [
    "## Instalasi python dan tools\n",
    "Silahkan pilih salah satu cara dibawah ini:\n",
    "\n",
    "1. Tidak perlu install apapun -> Pakai **sandbox** atau **Google Colab** (klik link colab setiap notebook)\n",
    "2. Install minimal python -> download di [python.org](https://www.python.org/) (Sudah termasuk package manager pip dan IDLE)\n",
    "> Saat menginstall, silakan centang **add to path variable** dan **change minimum path length** \n",
    "3. Install miniconda (minimum anaconda) - Command Line Interface (CLI) only [miniconda](https://docs.conda.io/en/latest/miniconda.html)\n",
    "4. Install Anaconda - Graphical User Interface (GUI) [download](https://www.anaconda.com/products/individual)\n",
    "\n",
    "### Editor & working space \n",
    "1. IDLE dari python.org\n",
    "2. Visual Studio Code -> Rcmd: install ekstensi `python` dari microsoft. [download](https://code.visualstudio.com/)\n",
    "3. Jupyter notebook di CLI baik menggunakan `pip` atau `conda`. [Install](https://jupyter.org/install)\n",
    "4. Menggunakan Online Interpreter -> misalnya [repl.it](https://repl.it), [programiz](https://www.programiz.com/python-programming/online-compiler/)\n",
    "\n",
    "### CLI only untuk linux\n",
    "* bisa menggunakan `curl` atau `wget`"
   ]
  },
  {
   "cell_type": "markdown",
   "metadata": {},
   "source": [
    "# Pengenalan Jupyter Notebook"
   ]
  },
  {
   "cell_type": "code",
   "execution_count": null,
   "metadata": {},
   "outputs": [],
   "source": [
    "1+2"
   ]
  },
  {
   "cell_type": "code",
   "execution_count": null,
   "metadata": {},
   "outputs": [],
   "source": [
    "2**3"
   ]
  },
  {
   "cell_type": "code",
   "execution_count": null,
   "metadata": {},
   "outputs": [],
   "source": [
    "# komen"
   ]
  },
  {
   "cell_type": "markdown",
   "metadata": {},
   "source": [
    "## Ini markdown\n",
    "\n",
    "Bisa Juga digunakan untuk menulis persamaan dengan menggunakan syntax LATEX: $\\int_a^b f(x) dx$"
   ]
  },
  {
   "cell_type": "code",
   "execution_count": null,
   "metadata": {},
   "outputs": [],
   "source": []
  },
  {
   "cell_type": "markdown",
   "metadata": {},
   "source": [
    "# Aplikasi yang dibutuhkan dan bisa dipakai\n",
    "\n",
    "| Fungsi | FileType | Online | Offline |\n",
    "| --- | --- | --- | --- |\n",
    "| Code Editor | .py |Sandbox Netacad| [IDLE](https://www.python.org/downloads/)|\n",
    "||| [repl.it](https://repl.it)|[VSCode](https://code.visualstudio.com/download)|\n",
    "||| [Programiz](https://www.programiz.com/python-programming/online-compiler/)  | [Netbeans](https://netbeans.apache.org/download/index.html) |\n",
    "| Notebook | .ipynb | [Google Colab](https://colab.research.google.com/) | [Jupyter](https://jupyter.org/try) |\n",
    "\n",
    "Atau ingin lengkap bisa mendownload [Anaconda Navigator](https://www.anaconda.com/products/distribution)\n"
   ]
  },
  {
   "cell_type": "code",
   "execution_count": null,
   "metadata": {},
   "outputs": [],
   "source": []
  }
 ],
 "metadata": {
  "kernelspec": {
   "display_name": "Python 3 (ipykernel)",
   "language": "python",
   "name": "python3"
  },
  "language_info": {
   "codemirror_mode": {
    "name": "ipython",
    "version": 3
   },
   "file_extension": ".py",
   "mimetype": "text/x-python",
   "name": "python",
   "nbconvert_exporter": "python",
   "pygments_lexer": "ipython3",
   "version": "3.11.5"
  }
 },
 "nbformat": 4,
 "nbformat_minor": 2
}
