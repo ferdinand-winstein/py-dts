{
 "cells": [
  {
   "cell_type": "markdown",
   "metadata": {
    "slideshow": {
     "slide_type": "slide"
    }
   },
   "source": [
    "# <center> Tipe data, Variabel dan Operasi Dasar </center>\n",
    "\n",
    "oleh : Ferdinand Winstein\n",
    "\n",
    "tanggal : 13-03-2023\n",
    "\n",
    "klik untuk [Open in colab](https://colab.research.google.com/github/ferdinand-winstein/py-dts/blob/master/PE1%20Module%202%20-%20Tipe%20Data%2C%20Variabel%2C%20Dasar%20Input%20Output%2C%20Operasi.ipynb) "
   ]
  },
  {
   "cell_type": "markdown",
   "metadata": {
    "slideshow": {
     "slide_type": "slide"
    }
   },
   "source": [
    "## Luaran pembelajaran\n",
    "\n",
    "- tipe data dan metode dasar untuk memformat, mengkonversi, input dan output data\n",
    "- operator\n",
    "- variabel"
   ]
  },
  {
   "cell_type": "markdown",
   "metadata": {
    "slideshow": {
     "slide_type": "slide"
    }
   },
   "source": [
    "# Program Pertama\n",
    "\n",
    "- mengenal fungsi `print()`;\n",
    "- tanda kurung buka;\n",
    "- tanda kutip;\n",
    "- kalimat 1 baris: `Hello, World!`;\n",
    "- fungsi beberapa tanda kutip lain;\n",
    "- tanda kurung tutup."
   ]
  },
  {
   "cell_type": "code",
   "execution_count": null,
   "metadata": {
    "scrolled": true,
    "slideshow": {
     "slide_type": "fragment"
    }
   },
   "outputs": [],
   "source": [
    "print('Hello, World!!!!!!')\n",
    "print(\"Goodbye World'!!!\")"
   ]
  },
  {
   "cell_type": "markdown",
   "metadata": {
    "slideshow": {
     "slide_type": "slide"
    }
   },
   "source": [
    "## Lab\n",
    "- Cetak kalimat \"Hello, Python!\"\n",
    "- Cetak nama pertamamu\n",
    "- Cetak nama pertamamu tanpa petik\n",
    "- apakah ada bedanya double quote \"\" dan single quote ' ?"
   ]
  },
  {
   "cell_type": "code",
   "execution_count": null,
   "metadata": {
    "scrolled": true,
    "slideshow": {
     "slide_type": "fragment"
    }
   },
   "outputs": [],
   "source": [
    "print(\"Hello, Python!\")\n",
    "print(\"Petik satu atau dua\")\n",
    "print('Petik satu atau dua')"
   ]
  },
  {
   "cell_type": "markdown",
   "metadata": {
    "slideshow": {
     "slide_type": "slide"
    }
   },
   "source": [
    "## Formatting dengan Special Character\n",
    "- `\\` = karakter spesial \"escaping nature\"\n",
    "\n",
    "- `\\n` = untuk enter\n",
    "\n",
    "- `\\` = escaping karakter\n",
    "\n",
    "```python\n",
    "print() = berarti line kosong\n",
    "```\n",
    "\n",
    "Tidak boleh ada 2 perintah dalam 1 baris\n",
    "```python\n",
    "print(\"nama depan\") print (\"nama belakang\")\n",
    "```"
   ]
  },
  {
   "cell_type": "code",
   "execution_count": null,
   "metadata": {
    "scrolled": true
   },
   "outputs": [],
   "source": [
    "print('Hai \\n Dunia') #TAB"
   ]
  },
  {
   "cell_type": "code",
   "execution_count": null,
   "metadata": {
    "scrolled": true,
    "slideshow": {
     "slide_type": "subslide"
    }
   },
   "outputs": [],
   "source": [
    "print(\"seketika langit menjadi gelap\\n\\tkemudian hujan turun dengan deras.\") #NEWLINE = ENTER\n",
    "print()\n",
    "print(\"ibu memasak di dapur\\ndan kakak menyapu di halaman.\")\n",
    "  "
   ]
  },
  {
   "cell_type": "code",
   "execution_count": null,
   "metadata": {
    "cell_style": "split",
    "slideshow": {
     "slide_type": "fragment"
    }
   },
   "outputs": [],
   "source": [
    "print(\"\\\"\")\n"
   ]
  },
  {
   "cell_type": "code",
   "execution_count": null,
   "metadata": {
    "cell_style": "split",
    "scrolled": false,
    "slideshow": {
     "slide_type": "fragment"
    }
   },
   "outputs": [],
   "source": [
    "print(\"\\\\\\\\\")\n"
   ]
  },
  {
   "cell_type": "code",
   "execution_count": null,
   "metadata": {
    "slideshow": {
     "slide_type": "fragment"
    }
   },
   "outputs": [],
   "source": [
    "# Dia mengatakan \"halo\"\n",
    "print(\"Dia mengatakan \\\"halo\\\"\")\n"
   ]
  },
  {
   "cell_type": "markdown",
   "metadata": {
    "slideshow": {
     "slide_type": "subslide"
    }
   },
   "source": [
    "Beberapa kalimat dapat dipisahkan dengan koma"
   ]
  },
  {
   "cell_type": "code",
   "execution_count": null,
   "metadata": {
    "slideshow": {
     "slide_type": "fragment"
    }
   },
   "outputs": [],
   "source": [
    "print(\"The itsy bitsy spider. climbed up. the waterspout.\")\n",
    "print(\"The itsy bitsy spider.\" , \"climbed up.\" , \"the waterspout.\")\n",
    " "
   ]
  },
  {
   "cell_type": "code",
   "execution_count": null,
   "metadata": {
    "slideshow": {
     "slide_type": "fragment"
    }
   },
   "outputs": [],
   "source": [
    "print(\"My name is\", \"Python.\")\n",
    "print(\"Monty Python.\")\n"
   ]
  },
  {
   "cell_type": "markdown",
   "metadata": {
    "slideshow": {
     "slide_type": "subslide"
    }
   },
   "source": [
    "```end=\" \"``` digunakan untuk akhiran argumen setelah argumen terakhir"
   ]
  },
  {
   "cell_type": "code",
   "execution_count": null,
   "metadata": {},
   "outputs": [],
   "source": [
    "print(\"My name is\", \"Python.\", end=\" \")\n",
    "print(\"Monty Python.\")\n"
   ]
  },
  {
   "cell_type": "code",
   "execution_count": null,
   "metadata": {},
   "outputs": [],
   "source": [
    "print(\"My name is \", end=\" ## \")\n",
    "print(\"Monty Python.\")\n"
   ]
  },
  {
   "cell_type": "markdown",
   "metadata": {
    "slideshow": {
     "slide_type": "subslide"
    }
   },
   "source": [
    "```sep=\" \" ``` digunakan untuk memisahkan antar argumen dengan string kosong atau karakter lain"
   ]
  },
  {
   "cell_type": "code",
   "execution_count": null,
   "metadata": {},
   "outputs": [],
   "source": [
    "print(\"My\", \"name\", \"is\", \"Monty Python.\")\n",
    "print(\"My name is Monty Python.\")"
   ]
  },
  {
   "cell_type": "code",
   "execution_count": null,
   "metadata": {},
   "outputs": [],
   "source": [
    "print(\"My\", \"name\", \"is\", \"Monty Python.\", sep=\"-\")\n",
    "print(\"My name is Monty Python.\", sep=\"-\")"
   ]
  },
  {
   "cell_type": "code",
   "execution_count": null,
   "metadata": {},
   "outputs": [],
   "source": [
    "print(\"My\", \"name\", \"is\", end=\"*\",sep=\"_\")\n",
    "print(\"Monty\", \"Python.\", sep=\"*\", end=\"*\\n\")\n",
    "print(\"Digital\", \"Talent\", \"Dahsyat\", sep=\"_\", end=\"*\")\n",
    "print(\"Ferdinand\", \"Winstein.\", sep=\"*\", end=\"*\\n\")"
   ]
  },
  {
   "cell_type": "markdown",
   "metadata": {
    "slideshow": {
     "slide_type": "subslide"
    }
   },
   "source": [
    "## Lab\n",
    "\n",
    "Buatlah Program untuk menghasilkan output:\n",
    "`Programming***Essentials***in...Python`"
   ]
  },
  {
   "cell_type": "code",
   "execution_count": null,
   "metadata": {},
   "outputs": [],
   "source": [
    "print(\"Programming***Essentials***in...Python\")"
   ]
  },
  {
   "cell_type": "code",
   "execution_count": null,
   "metadata": {},
   "outputs": [],
   "source": [
    "print('Programming','Essentials','in',sep='***',end='...')\n",
    "print('Python')"
   ]
  },
  {
   "cell_type": "markdown",
   "metadata": {
    "slideshow": {
     "slide_type": "subslide"
    }
   },
   "source": [
    "## Lab\n",
    "\n",
    "Buatlah program dengan output sebagai berikut:\n",
    "```\n",
    "    *\n",
    "   * *\n",
    "  *   *\n",
    " *     *\n",
    "***   ***\n",
    "  *   *\n",
    "  *   *\n",
    "  ***** \n",
    "```"
   ]
  },
  {
   "cell_type": "code",
   "execution_count": null,
   "metadata": {},
   "outputs": [],
   "source": [
    "print('    *')\n",
    "print('   * *')\n",
    "print('  *   *')\n",
    "print(' *     *')\n",
    "print('***   ***')\n",
    "print('  *   *')\n",
    "print('  *   *')\n",
    "print('  *****')"
   ]
  },
  {
   "cell_type": "code",
   "execution_count": null,
   "metadata": {
    "slideshow": {
     "slide_type": "subslide"
    }
   },
   "outputs": [],
   "source": [
    "print(\"    *\\n   * *\\n  *   *\\n *     *\\n***   ***\\n  *   *\\n  *   *\\n  *****\\n\")"
   ]
  },
  {
   "cell_type": "markdown",
   "metadata": {
    "slideshow": {
     "slide_type": "slide"
    }
   },
   "source": [
    "# Literals\n",
    "literal merupakan notasi untuk mensimbolkan nilai, dapat berupa string, boolean maupun angka (integer dan float)"
   ]
  },
  {
   "cell_type": "code",
   "execution_count": null,
   "metadata": {
    "slideshow": {
     "slide_type": "fragment"
    }
   },
   "outputs": [],
   "source": [
    "# hasil output akan terlihat sama, namun nilai tersebut tersimpan dengan cara yang berbeda dalam memori komputer\n",
    "print(\"2+2\")\n",
    "print(2+2)"
   ]
  },
  {
   "cell_type": "code",
   "execution_count": null,
   "metadata": {},
   "outputs": [],
   "source": [
    "print(type(\"2\"))\n",
    "print(type('2'))\n",
    "print(type(2))"
   ]
  },
  {
   "cell_type": "markdown",
   "metadata": {
    "slideshow": {
     "slide_type": "subslide"
    }
   },
   "source": [
    "## Integers vs Floats\n"
   ]
  },
  {
   "cell_type": "code",
   "execution_count": null,
   "metadata": {
    "slideshow": {
     "slide_type": "fragment"
    }
   },
   "outputs": [],
   "source": [
    "print(5, \"mempunyai tipe\", type(5))\n",
    "\n",
    "print(5.0, \"mempunyai tipe\", type(5.0))\n"
   ]
  },
  {
   "cell_type": "code",
   "execution_count": null,
   "metadata": {},
   "outputs": [],
   "source": [
    "print(5/2)"
   ]
  },
  {
   "cell_type": "markdown",
   "metadata": {
    "slideshow": {
     "slide_type": "subslide"
    }
   },
   "source": [
    "\n",
    "## Penulisan Float dan Integer\n",
    "Python versi 3 membolehkan pemisahan digit integer dengan underscore \"_\"\n",
    "agar mudah dibaca\n",
    "```python\n",
    "print (10_000_000)```\n",
    "\n",
    "Float dipisahkan dengan .(titik) bukan ,(koma)\n",
    "cara penulisan float bisa 3 cara\n",
    "\n",
    "- 4.0\n",
    "- .4 (terbaca nol koma 4)\n",
    "- 4. (terbaca 4 koma nol)\n",
    "\n",
    "> 3e08 berarti 3 x 10 ^ 8\n",
    "3e-08 berarti 3 x 10 ^ -8\n"
   ]
  },
  {
   "cell_type": "code",
   "execution_count": null,
   "metadata": {
    "slideshow": {
     "slide_type": "fragment"
    }
   },
   "outputs": [],
   "source": [
    "print (10_000_000)\n",
    "print (10000000)\n",
    "print (0.00000003)\n",
    "print (3e-8)"
   ]
  },
  {
   "cell_type": "markdown",
   "metadata": {
    "slideshow": {
     "slide_type": "subslide"
    }
   },
   "source": [
    "## String\n",
    "\n",
    "Buatlah program untuk menghasilkan output `I'm Monty Python`"
   ]
  },
  {
   "cell_type": "code",
   "execution_count": null,
   "metadata": {
    "slideshow": {
     "slide_type": "fragment"
    }
   },
   "outputs": [],
   "source": [
    "print(\"I'm Monty Python\")\n",
    "print(\"Jum'at\")\n",
    "print('\"Saya berpendapat python itu mudah\", kata Monty')\n",
    "print(\"1.5\")\n",
    "print(\"1000\")"
   ]
  },
  {
   "cell_type": "code",
   "execution_count": null,
   "metadata": {
    "slideshow": {
     "slide_type": "fragment"
    }
   },
   "outputs": [],
   "source": [
    "#string kosong pun juga bernilai string\n",
    "print(type(\"\"))\n",
    "print('')"
   ]
  },
  {
   "cell_type": "markdown",
   "metadata": {
    "slideshow": {
     "slide_type": "subslide"
    }
   },
   "source": [
    "## Boolean\n",
    "Logika benar salah, 1 bernilai benar (True) dan 0 bernilai salah (False)"
   ]
  },
  {
   "cell_type": "code",
   "execution_count": null,
   "metadata": {
    "slideshow": {
     "slide_type": "fragment"
    }
   },
   "outputs": [],
   "source": [
    "print(True)\n",
    "print(False)\n",
    "print (3>0)\n",
    "print (0>3)"
   ]
  },
  {
   "cell_type": "markdown",
   "metadata": {
    "slideshow": {
     "slide_type": "subslide"
    }
   },
   "source": [
    "## None"
   ]
  },
  {
   "cell_type": "code",
   "execution_count": null,
   "metadata": {
    "slideshow": {
     "slide_type": "fragment"
    }
   },
   "outputs": [],
   "source": [
    "print(type(None))"
   ]
  },
  {
   "cell_type": "markdown",
   "metadata": {
    "slideshow": {
     "slide_type": "subslide"
    }
   },
   "source": [
    "## Lab\n",
    "Buat output seperti ini dalam satu line <br/>\n",
    "`\"I'm\"`<br/>\n",
    "`\"\"learning\"\"`<br/>\n",
    "`\"\"\"Python\"\"\"`"
   ]
  },
  {
   "cell_type": "code",
   "execution_count": null,
   "metadata": {
    "slideshow": {
     "slide_type": "fragment"
    }
   },
   "outputs": [],
   "source": [
    "print('\"I\\'m\"\\n\"\"learning\"\"\\n\"\"\"Python\"\"\"')\n",
    "\n",
    "print(\"\"\"\n",
    "\"I'm\"\n",
    "\"\"learning\"\"\n",
    "\\\"\"\"Python\"\"\\\"\n",
    "\"\"\")"
   ]
  },
  {
   "cell_type": "markdown",
   "metadata": {
    "slideshow": {
     "slide_type": "slide"
    }
   },
   "source": [
    "# Operator"
   ]
  },
  {
   "cell_type": "markdown",
   "metadata": {
    "slideshow": {
     "slide_type": "fragment"
    }
   },
   "source": [
    "## Operator Aritmatika\n",
    "\n",
    "| Operator | Arti                                                                                          | Contoh                  |\n",
    "|----------|--------------------------------------------------------------------------------------------------|--------------------------|\n",
    "| +        | Penjumlahan                                                                  | x + y                 |\n",
    "| -        | Pengurangan                                              | x - y                  |\n",
    "| *        | Perkalian                                                                            | x * y                    |\n",
    "| /        | Pembagian                                 | x / y                    |\n",
    "| %        | Modulo - Sisa Pembagian                                 | x % y (sisa pembagian of x/y) |\n",
    "| //       | Pembagian dan dibulatkan ke bawah | x // y                   |\n",
    "| **       | Eksponen - Pangkat                                             | x**y (x pangkat y)  |"
   ]
  },
  {
   "cell_type": "code",
   "execution_count": null,
   "metadata": {},
   "outputs": [],
   "source": [
    "# Penjumlahan\n",
    "print(7+5)\n",
    "print(72+57)\n",
    "print(7.2+5.7)\n",
    "print(7+True)\n",
    "print(7+5.4)"
   ]
  },
  {
   "cell_type": "code",
   "execution_count": null,
   "metadata": {},
   "outputs": [],
   "source": [
    "# Pengurangan\n",
    "print(7-2)\n",
    "print(5-9)\n",
    "print(9.0-2.1)"
   ]
  },
  {
   "cell_type": "code",
   "execution_count": null,
   "metadata": {},
   "outputs": [],
   "source": [
    "# Perkalian\n",
    "print(5*2)\n",
    "print(4*2.1)"
   ]
  },
  {
   "cell_type": "code",
   "execution_count": null,
   "metadata": {},
   "outputs": [],
   "source": [
    "# Pembagian\n",
    "print(5/2)\n",
    "print(11/3)\n",
    "print(9/3)"
   ]
  },
  {
   "cell_type": "code",
   "execution_count": null,
   "metadata": {},
   "outputs": [],
   "source": [
    "# Floor Division (//) = Pembagian, lalu dibulatkan ke Bawah\n",
    "print(5//2)\n",
    "print(11//3)\n",
    "print(9//3)"
   ]
  },
  {
   "cell_type": "code",
   "execution_count": null,
   "metadata": {},
   "outputs": [],
   "source": [
    "# Modulo (%) = Sisa Pembagian\n",
    "print(5%2)\n",
    "print(94%3)\n",
    "print(9%3)"
   ]
  },
  {
   "cell_type": "code",
   "execution_count": null,
   "metadata": {},
   "outputs": [],
   "source": [
    "# Pangkat / Eksponen (**)\n",
    "print(2**3)\n",
    "print(8**3)\n",
    "print(2**10)\n",
    "\n",
    "# Akar?\n",
    "print(9**.5)"
   ]
  },
  {
   "cell_type": "markdown",
   "metadata": {
    "slideshow": {
     "slide_type": "subslide"
    }
   },
   "source": [
    "## Urutan Operator"
   ]
  },
  {
   "cell_type": "code",
   "execution_count": null,
   "metadata": {
    "slideshow": {
     "slide_type": "fragment"
    }
   },
   "outputs": [],
   "source": [
    "#perkalian lebih didahulukan dari penambahan\n",
    "2 + 3 * 5\n"
   ]
  },
  {
   "cell_type": "code",
   "execution_count": null,
   "metadata": {
    "slideshow": {
     "slide_type": "fragment"
    }
   },
   "outputs": [],
   "source": [
    "#pengerjaan dari kiri ke kanan\n",
    "print(9 % 6 % 2)\n"
   ]
  },
  {
   "cell_type": "code",
   "execution_count": null,
   "metadata": {
    "slideshow": {
     "slide_type": "fragment"
    }
   },
   "outputs": [],
   "source": [
    "#pengerjaan dari kanan ke kiri\n",
    "print(2 ** 2 ** 3)\n"
   ]
  },
  {
   "attachments": {
    "fdb65a214cc792cf07b2d84f4230b044%20%281%29.jpg": {
     "image/jpeg": "[encoded data removed]"
    }
   },
   "cell_type": "markdown",
   "metadata": {
    "slideshow": {
     "slide_type": "subslide"
    }
   },
   "source": [
    "| Prioritas| Operator |  ket   |\n",
    "|----------|----------|--------|\n",
    "| 1        | +, -     | unary  |\n",
    "| 2        | **       |        |\n",
    "| 3        | *, /, //,%  |        |\n",
    "| 4        | +, -     | binary |\n",
    "\n",
    "lengkapnya dapat dilihat dibawah ini:\n",
    "![fdb65a214cc792cf07b2d84f4230b044%20%281%29.jpg](attachment:fdb65a214cc792cf07b2d84f4230b044%20%281%29.jpg)"
   ]
  },
  {
   "cell_type": "code",
   "execution_count": null,
   "metadata": {
    "slideshow": {
     "slide_type": "fragment"
    }
   },
   "outputs": [],
   "source": [
    "print((5 * ((25 % 13) + 100) / (2 * 13)) // 2)\n"
   ]
  },
  {
   "cell_type": "markdown",
   "metadata": {
    "slideshow": {
     "slide_type": "subslide"
    }
   },
   "source": [
    "### Latihan\n",
    "\n",
    "`print((2 ** 4), (2 * 4.), (2 * 4))`<br/>\n",
    "`print((-2 / 4), (2 / 4), (2 // 4), (-2 // 4))`<br/>\n",
    "`print((2 % -4), (2 % 4), (2 ** 3 ** 2))`<br/>"
   ]
  },
  {
   "cell_type": "markdown",
   "metadata": {
    "slideshow": {
     "slide_type": "slide"
    }
   },
   "source": [
    "# Variabel\n",
    "- Apa itu variabel?\n",
    "- Bagaimana Aturan Penamaannya?\n"
   ]
  },
  {
   "cell_type": "code",
   "execution_count": 3,
   "metadata": {
    "slideshow": {
     "slide_type": "fragment"
    }
   },
   "outputs": [
    {
     "name": "stdout",
     "output_type": "stream",
     "text": [
      "1\n"
     ]
    }
   ],
   "source": [
    "# kamu bisa menaruh tipe data apapun dalam variabel\n",
    "var = 1 # bukan operasi matematika, namun operasi assignment i.e., var <-- 1\n",
    "print(var)\n"
   ]
  },
  {
   "cell_type": "markdown",
   "metadata": {
    "slideshow": {
     "slide_type": "fragment"
    }
   },
   "source": [
    "- baris pertama membuat variabel dengan nama `var`, dan diisi dengan nilai `1`.\n",
    "- baris kedua mencetak nilai dalam variabel ke dalam console"
   ]
  },
  {
   "cell_type": "code",
   "execution_count": 5,
   "metadata": {
    "slideshow": {
     "slide_type": "subslide"
    }
   },
   "outputs": [
    {
     "name": "stdout",
     "output_type": "stream",
     "text": [
      "1 1000.0 2023\n",
      "<class 'int'> <class 'float'> <class 'str'>\n"
     ]
    }
   ],
   "source": [
    "var = 1\n",
    "saldo = 1000.0\n",
    "namaKlien = '2023'\n",
    "print(var, saldo, namaKlien)\n",
    "print(type(var),type(saldo),type(namaKlien))"
   ]
  },
  {
   "cell_type": "code",
   "execution_count": 6,
   "metadata": {
    "slideshow": {
     "slide_type": "fragment"
    }
   },
   "outputs": [
    {
     "ename": "NameError",
     "evalue": "name 'Var' is not defined",
     "output_type": "error",
     "traceback": [
      "\u001b[1;31m---------------------------------------------------------------------------\u001b[0m",
      "\u001b[1;31mNameError\u001b[0m                                 Traceback (most recent call last)",
      "Input \u001b[1;32mIn [6]\u001b[0m, in \u001b[0;36m<cell line: 3>\u001b[1;34m()\u001b[0m\n\u001b[0;32m      1\u001b[0m \u001b[38;5;66;03m# case sensitive, huruf besar kecil perlu diperhatikan!\u001b[39;00m\n\u001b[0;32m      2\u001b[0m var \u001b[38;5;241m=\u001b[39m \u001b[38;5;241m1\u001b[39m\n\u001b[1;32m----> 3\u001b[0m \u001b[38;5;28mprint\u001b[39m(\u001b[43mVar\u001b[49m)\n",
      "\u001b[1;31mNameError\u001b[0m: name 'Var' is not defined"
     ]
    }
   ],
   "source": [
    "# case sensitive, huruf besar kecil perlu diperhatikan!\n",
    "var = 1\n",
    "print(Var) "
   ]
  },
  {
   "cell_type": "code",
   "execution_count": 7,
   "metadata": {
    "slideshow": {
     "slide_type": "fragment"
    }
   },
   "outputs": [
    {
     "name": "stdout",
     "output_type": "stream",
     "text": [
      "100\n",
      "500\n"
     ]
    }
   ],
   "source": [
    "var = 100\n",
    "print(var)\n",
    "var = 200 + 300\n",
    "print(var)"
   ]
  },
  {
   "cell_type": "code",
   "execution_count": 8,
   "metadata": {
    "slideshow": {
     "slide_type": "subslide"
    }
   },
   "outputs": [
    {
     "name": "stdout",
     "output_type": "stream",
     "text": [
      "1\n",
      "2\n",
      "3\n"
     ]
    }
   ],
   "source": [
    "#menetapkan  nilai baru ke dalam variabel yang telah ada \n",
    "#menugaskan variabel\n",
    "var = 1\n",
    "print(var)\n",
    "var = var + 1\n",
    "print(var)\n",
    "var += 1\n",
    "print(var)"
   ]
  },
  {
   "cell_type": "code",
   "execution_count": 10,
   "metadata": {
    "scrolled": true,
    "slideshow": {
     "slide_type": "fragment"
    }
   },
   "outputs": [
    {
     "name": "stdout",
     "output_type": "stream",
     "text": [
      "Digital talent: 2023\n",
      "Digital talentDigital talentDigital talentDigital talentDigital talent\n"
     ]
    }
   ],
   "source": [
    "#tanda '+' bisa digunakan untuk kontatinasi untuk type string / concat\n",
    "var = \"2023\"\n",
    "print(\"Digital talent: \" + var) \n",
    "#tanda '*' bisa digunakan untuk melipatgandakan string\n",
    "print(\"Digital talent\" * 5)"
   ]
  },
  {
   "cell_type": "code",
   "execution_count": null,
   "metadata": {},
   "outputs": [],
   "source": [
    "i = 5\n",
    "print(i, type(i))\n",
    "i = 'Ferdinand'\n",
    "print(i, type(i))"
   ]
  },
  {
   "cell_type": "code",
   "execution_count": null,
   "metadata": {},
   "outputs": [],
   "source": [
    "i = 12385\n",
    "print(i, type(i))\n",
    "j = str(i)\n",
    "print(j, type(j))"
   ]
  },
  {
   "cell_type": "markdown",
   "metadata": {
    "slideshow": {
     "slide_type": "subslide"
    }
   },
   "source": [
    "### Latihan\n",
    "Tulis rumus ini dalam kode program:<br/> $c=\\sqrt{a^2+b^2}$"
   ]
  },
  {
   "cell_type": "code",
   "execution_count": null,
   "metadata": {
    "slideshow": {
     "slide_type": "fragment"
    }
   },
   "outputs": [],
   "source": [
    "a = 3.0\n",
    "b = 4.0\n",
    "c = (a ** 2 + b ** 2) ** 0.5\n",
    "print(\"c =\", c)"
   ]
  },
  {
   "cell_type": "markdown",
   "metadata": {
    "slideshow": {
     "slide_type": "subslide"
    }
   },
   "source": [
    "### Lab\n",
    "\n",
    "<b>Cerita Pendek:</b> \n",
    "\n",
    "Suatu waktu di kebun apel, Guntur memiliki 3 apel, Icha memiliki 5 apel dan Ratna memiliki 6 Apel. mereka sangat bahagia dan hidup lama. selesai.\n",
    "\n",
    "Tugas Anda\n",
    "- buat variabe : `Guntur`, `Icha` dan `Ratna`\n",
    "- isi nilai sesuai dengan jumlah apel yang mereka miliki\n",
    "- cetak nama variabel dan jumlah apel setiap variabel dalam 1 baris, pisahkan dengan koma\n",
    "- buat variabel baru dengan nama `totalApel` yang berisi penjumlahan seluruh apel yang mereka miliki\n",
    "- coba otak atik code dengan membuat variable baru, diisi dengan nilai lain, dan dihitung dengan operator aritmetik lainnya\n"
   ]
  },
  {
   "cell_type": "code",
   "execution_count": null,
   "metadata": {},
   "outputs": [],
   "source": [
    "Guntur = 3\n",
    "Icha = 5 \n",
    "Ratna = 6\n",
    "print('Guntur punya',Guntur,'Apel')\n",
    "print('Icha punya',Icha,'Apel')\n",
    "print('Ratna punya',Ratna,'Apel')\n",
    "totalApel = Guntur + Icha + Ratna\n",
    "print('Total Apel adalah',totalApel,'Apel')"
   ]
  },
  {
   "cell_type": "code",
   "execution_count": null,
   "metadata": {
    "slideshow": {
     "slide_type": "subslide"
    }
   },
   "outputs": [],
   "source": [
    "#Jalan Pintas operator\n",
    "\n",
    "sheep = 5\n",
    "sheep = sheep + 1\n",
    "print(sheep)\n",
    "\n",
    "sheep += 3 # sama saja dengan sheep = sheep + 3 \n",
    "print(sheep)\n",
    "\n",
    "sheep *= 2 # sama saja dengan sheep = sheep * 2\n",
    "print(sheep)"
   ]
  },
  {
   "cell_type": "markdown",
   "metadata": {
    "slideshow": {
     "slide_type": "subslide"
    }
   },
   "source": [
    "### Lab\n",
    "\n",
    "Mil dan kilometer adalah satuan panjang\n",
    "\n",
    "1 mil memiliki panjang sekitar 1.61 kilometer, buatlah program konversi di bawah ini\n",
    "- mil ke kilometer;\n",
    "- kilometer to mil.\n",
    "jangan ganti apapun terhadap kode yang sudah ada. tulis kodemu pada tanda ###, kemudian hapus tanda tersebut. Uji kode Anda dengan data yang kami sajikan dalam source code\n"
   ]
  },
  {
   "cell_type": "markdown",
   "metadata": {
    "slideshow": {
     "slide_type": "subslide"
    }
   },
   "source": [
    "Kode:\n",
    "```python\n",
    "kilometer = 12.25\n",
    "mil = 7.38\n",
    "\n",
    "mil_ke_kilometer = ###\n",
    "kilometer_ke_mil = ###\n",
    "\n",
    "print(mil, \"1 mil adalah\", round(miles_to_kilometers, 2), \"kilometer\")\n",
    "print(kilometer, \"1 kilometer adalah\", round(kilometers_to_miles, 2), \"mil\")\n",
    "```"
   ]
  },
  {
   "cell_type": "code",
   "execution_count": null,
   "metadata": {
    "slideshow": {
     "slide_type": "subslide"
    }
   },
   "outputs": [],
   "source": [
    "kilometer = 12.25\n",
    "mil = 7.61\n",
    "\n",
    "mil_ke_kilometer = mil * 1.61\n",
    "kilometer_ke_mil = kilometer / 1.61\n",
    "\n",
    "print(mil, \"mil adalah\", round(mil_ke_kilometer, 2), \"kilometer\")\n",
    "print(kilometer, \"kilometer adalah\", round(kilometer_ke_mil, 2), \"mil\")"
   ]
  },
  {
   "cell_type": "markdown",
   "metadata": {
    "slideshow": {
     "slide_type": "subslide"
    }
   },
   "source": [
    "### Lab\n",
    "\n",
    "Skenario\n",
    "lihatlah kode dalam editor, nilai tersebut termasuk tipe float, letakkan nilai tersebut dalam variabel x, dan print variabel tersebut dalam variabel y. Tugasmu adalah melengkapi kode di bawah ini untk menyelesaikan persamaan di bawah\n",
    "\n",
    "$3x^3 - 2x^2 + 3x - 1$\n",
    "\n",
    "Hasil harus disimpan dalam variabel y.\n",
    "ingat bahwa aljabar klasik sering menghilangkan operator perkalian, kamu harus menggunakannya secara eksplisit. Ingat bagaimana cara mengubah tipe data untuk memastikan bahwa x bertipe float.\n",
    "\n",
    "usahakan kodemu mudah dibaca, uji kode dengan data yang telah kami berikan.\n",
    "\n",
    "```python\n",
    "x =  # hardcode your test data here\n",
    "x = float(x)\n",
    "# tulis kodemu disini\n",
    "print(\"y =\", y)\n",
    "```\n",
    "\n",
    "Test Data:\n",
    "```python\n",
    "#input\n",
    "x = 0\n",
    "x = 1\n",
    "x = -1\n",
    "\n",
    "#output\n",
    "y = -1.0\n",
    "y = 3.0\n",
    "y = -9.0\n",
    "```"
   ]
  },
  {
   "cell_type": "code",
   "execution_count": null,
   "metadata": {
    "slideshow": {
     "slide_type": "subslide"
    }
   },
   "outputs": [],
   "source": [
    "x = -1\n",
    "x = float(x)\n",
    "y = 3*x**3 - 2*x**2 + 3*x -1\n",
    "print(\"y =\", y)"
   ]
  },
  {
   "cell_type": "markdown",
   "metadata": {
    "slideshow": {
     "slide_type": "subslide"
    }
   },
   "source": [
    "### Exercise\n",
    "\n",
    "Apa outputnya?\n",
    "```python\n",
    "var = 2\n",
    "var = 3\n",
    "print(var)\n",
    "```\n",
    "\n",
    "Nama variabel mana yang ilegal?\n",
    "```python\n",
    "my_var\n",
    "m\n",
    "101\n",
    "averylongvariablename\n",
    "m101\n",
    "m 101\n",
    "Del\n",
    "del\n",
    "```\n",
    "\n",
    "Apa Outputnya?\n",
    "```python\n",
    "a = '1'\n",
    "b = \"1\"\n",
    "print(a + b)\n",
    "```\n",
    "\n",
    "Apa outputnya?\n",
    "\n",
    "```python\n",
    "a = 6\n",
    "b = 3\n",
    "a /= 2 * b\n",
    "print(a)\n",
    "```"
   ]
  },
  {
   "cell_type": "markdown",
   "metadata": {
    "slideshow": {
     "slide_type": "slide"
    }
   },
   "source": [
    "# Comments\n",
    "Latihan: mana yang seharusnya menjadi komentar, mana yang tidak"
   ]
  },
  {
   "cell_type": "code",
   "execution_count": null,
   "metadata": {
    "slideshow": {
     "slide_type": "fragment"
    }
   },
   "outputs": [],
   "source": [
    "# this program computes the number of seconds in a given number of hours\n",
    "# this program has been written two days ago\n",
    "a = 2 # number of hours\n",
    "seconds = 3600 # number of seconds in 1 hour\n",
    "\n",
    "print(\"Hours: \", a) # printing the number of hours\n",
    "print(\"Seconds in Hours: \", a * seconds) # printing the number of seconds in a given number of hours\n",
    "\n",
    "# here we should also print \"Goodbye\", but a programmer didn't have time to write any code\n",
    "# this is the end of the program that computes the number of seconds in 3 hour\n"
   ]
  },
  {
   "cell_type": "markdown",
   "metadata": {
    "slideshow": {
     "slide_type": "slide"
    }
   },
   "source": [
    "# Berbicara dengan computer \n",
    "katakunci `input()`<br/>\n",
    "hasil dari fungsi `input()` adalah <b>string</b>.<br/>\n",
    "Tidak bisa langsung dikenakan ke operasi aritmetika"
   ]
  },
  {
   "cell_type": "code",
   "execution_count": null,
   "metadata": {
    "slideshow": {
     "slide_type": "fragment"
    }
   },
   "outputs": [],
   "source": [
    "print(\"Tell me anything...\")\n",
    "anything = input()\n",
    "print(\"Hmm...\", anything, \"... Really?\")"
   ]
  },
  {
   "cell_type": "code",
   "execution_count": null,
   "metadata": {},
   "outputs": [],
   "source": [
    "print(type(anything))"
   ]
  },
  {
   "cell_type": "code",
   "execution_count": null,
   "metadata": {
    "slideshow": {
     "slide_type": "fragment"
    }
   },
   "outputs": [],
   "source": [
    "angka = input(\"Masukkan Angka...\")\n",
    "print(\"Kali duanya adalah\", angka*2)\n"
   ]
  },
  {
   "cell_type": "markdown",
   "metadata": {
    "slideshow": {
     "slide_type": "subslide"
    }
   },
   "source": [
    "### type casting"
   ]
  },
  {
   "cell_type": "code",
   "execution_count": null,
   "metadata": {
    "slideshow": {
     "slide_type": "fragment"
    }
   },
   "outputs": [],
   "source": [
    "angka = int(input(\"Masukkan Angka...\"))\n",
    "print(\"Pangkat duanya adalah\", angka**2)"
   ]
  },
  {
   "cell_type": "code",
   "execution_count": null,
   "metadata": {
    "slideshow": {
     "slide_type": "fragment"
    }
   },
   "outputs": [],
   "source": [
    "leg_a = float(input(\"Input first leg length: \"))\n",
    "leg_b = float(input(\"Input second leg length: \"))\n",
    "hypo = (leg_a**2 + leg_b**2) ** .5\n",
    "print(\"Hypotenuse length is\", hypo)"
   ]
  },
  {
   "cell_type": "code",
   "execution_count": null,
   "metadata": {
    "slideshow": {
     "slide_type": "fragment"
    }
   },
   "outputs": [],
   "source": [
    "fnam = input(\"May I have your first name, please? \")\n",
    "lnam = input(\"May I have your last name, please? \")\n",
    "print(\"Thank you.\")\n",
    "print(\"\\nYour name is \" + fnam + \" \" + lnam + \".\")\n"
   ]
  },
  {
   "cell_type": "code",
   "execution_count": null,
   "metadata": {
    "slideshow": {
     "slide_type": "subslide"
    }
   },
   "outputs": [],
   "source": [
    "#Replication\n",
    "\n",
    "print(\"+\" + 10 * \"-\" + \"+\")\n",
    "print((\"|\" + \" \" * 10 + \"|\\n\") * 5, end=\"\")\n",
    "print(\"+\" + 10 * \"-\" + \"+\")\n"
   ]
  },
  {
   "cell_type": "code",
   "execution_count": null,
   "metadata": {
    "slideshow": {
     "slide_type": "fragment"
    }
   },
   "outputs": [],
   "source": [
    "leg_a = float(input(\"Input first leg length: \"))\n",
    "leg_b = float(input(\"Input second leg length: \"))\n",
    "print(\"Hypotenuse length is \" + str((leg_a**2 + leg_b**2) ** .5))\n"
   ]
  },
  {
   "cell_type": "markdown",
   "metadata": {
    "slideshow": {
     "slide_type": "subslide"
    }
   },
   "source": [
    "### Lab\n",
    "Coba utak atik perintah kode dibawah ini\n",
    "``` python\n",
    "# Masukkan nilai a dalam float\n",
    "# Masukkan nilai b dalam float\n",
    "\n",
    "# hitung hasil penambahan disini\n",
    "# hitung hasil pengurangan disini\n",
    "# hitung hasil perkalian disini\n",
    "# hitung hasil pembagian disini\n",
    "\n",
    "\n",
    "print(\"\\nYeahhhh\")\n",
    "```"
   ]
  },
  {
   "cell_type": "code",
   "execution_count": null,
   "metadata": {
    "slideshow": {
     "slide_type": "subslide"
    }
   },
   "outputs": [],
   "source": [
    "a = float(input(\"Masukkan a = \"))\n",
    "b = float(input(\"Masukkan b = \"))\n",
    "\n",
    "print(\"a+b = \",a+b)\n",
    "print(\"a-b = \",a-b)\n",
    "print(\"a*b = \",a*b)\n",
    "print(\"a/b = \",a/b)\n",
    "print(\"\\nYeahhhh!\")\n"
   ]
  },
  {
   "cell_type": "markdown",
   "metadata": {
    "slideshow": {
     "slide_type": "subslide"
    }
   },
   "source": [
    "### Lab\n",
    "Kerjakan rumus berikut:\n",
    "\n",
    "$$\\frac{1}{x+\\frac{1}{x+\\frac{1}{x+\\frac{1}{x}}}}$$\n",
    "\n",
    "input/output yang diharapkan\n",
    "```python\n",
    "x = 1\n",
    "y = 0.6000000000000001\n",
    "\n",
    "x = 10\n",
    "y = 0.09901951266867294\n",
    "```"
   ]
  },
  {
   "cell_type": "code",
   "execution_count": null,
   "metadata": {
    "slideshow": {
     "slide_type": "fragment"
    }
   },
   "outputs": [],
   "source": [
    "x = float(input(\"Enter value for x: \"))\n",
    "y = 1/(x+1/(x+1/(x+1/x)))\n",
    "\n",
    "print(\"y =\", y)\n"
   ]
  },
  {
   "cell_type": "markdown",
   "metadata": {
    "slideshow": {
     "slide_type": "subslide"
    }
   },
   "source": [
    "### Lab\n",
    "Tugasmu adalah mempersiapkan kode simpel untuk menentukan waktu akhir/selesai sebuah kegiatan. Diberikan variabel durasi waktu dalam menit dan waktu mulai dalam jam (0..23)dan menit (0..59). hasilnya harus dicetak dalam console\n",
    "\n",
    "sebagai contoh, jika suatu kegiatan dimulai pukul `12:17` dan berlangsung selama `59 minutes` , maka kegiatan tersebut tersebut akan selesai pukul `13:16`\n",
    "\n",
    "jangan takut kalau kodemu belum sempurna, tidak masalah waktunya terlihat tidak valid, yang terpenting kodenya dapat menghasilkan nilai yang valid berdasarkan data input.\n",
    "\n",
    "Kode Dasar:\n",
    "```python\n",
    "jam = int(input(\"waktu mulai (jam): \"))\n",
    "menit = int(input(\"waktu mulai (menit): \"))\n",
    "durasi= int(input(\"durasi kegiatan (minutes): \"))\n",
    "\n",
    "# Letakkan kodemu disini\n",
    "```\n",
    "Uji Kodemu, Petunjuk ! gunakan operator % sebagai kunci suksesmu\n",
    ",,"
   ]
  },
  {
   "cell_type": "code",
   "execution_count": null,
   "metadata": {
    "slideshow": {
     "slide_type": "subslide"
    }
   },
   "outputs": [],
   "source": [
    "# coba di cek lagi\n",
    "\n",
    "jam = int(input(\"waktu mulai (jam): \"))\n",
    "menit = int(input(\"waktu mulai (menit): \"))\n",
    "durasi = int(input(\"durasi kegiatan (menit): \"))\n",
    "\n",
    "tambah_menit = menit + durasi\n",
    "tambah_jam = tambah_menit // 60\n",
    "\n",
    "jam += tambah_jam\n",
    "menit = tambah_menit % 60\n",
    "\n",
    "print(str(jam%24)+':'+str(menit))"
   ]
  }
 ],
 "metadata": {
  "kernelspec": {
   "display_name": "Python 3 (ipykernel)",
   "language": "python",
   "name": "python3"
  },
  "language_info": {
   "codemirror_mode": {
    "name": "ipython",
    "version": 3
   },
   "file_extension": ".py",
   "mimetype": "text/x-python",
   "name": "python",
   "nbconvert_exporter": "python",
   "pygments_lexer": "ipython3",
   "version": "3.8.5"
  },
  "rise": {
   "auto_select": "none",
   "auto_select_fragment": false,
   "footer": "<h3 style='padding:10px;color:rgb(59, 117, 158);font-weight:bold'>netacad Indonesia</h3>",
   "header": "<h2 style='padding:10px;color:rgb(59, 117, 158);font-weight:bold'>Python - PCAP</h2>",
   "scroll": true,
   "theme": "sky",
   "width": "90%"
  }
 },
 "nbformat": 4,
 "nbformat_minor": 2
}
