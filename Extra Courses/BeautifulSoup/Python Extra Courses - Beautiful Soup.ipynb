{
 "cells": [
  {
   "attachments": {
    "web%20scrapping.png": {
     "image/png": "[encoded data removed]"
    }
   },
   "cell_type": "markdown",
   "id": "a5c96b5f",
   "metadata": {},
   "source": [
    "# Apa itu Web Scraping?\n",
    "\n",
    "![web%20scrapping.png](attachment:web%20scrapping.png)\n",
    "Web scraping, web harvesting, atau web data extraction merupakan kegiatan yang dilakukan untuk mengambil data tertentu secara semi-terstruktur dari sebuah halaman situs web. Halaman tersebut umumnya dibangun menggunakan bahasa markup seperti HTML atau XHTML, proses akan menganalisis dokumen sebelum memulai mengambil data.\n",
    "\n",
    "Biasanya teknik scraping diimplementasikan pada sebuah bot agar bisa membuat proses yang harusnya dilakukan secara manual menjadi otomatis. Ketika kita menjumpai sebuah situs yang membatasi kuota API (application programming interface) atau bahkan tidak menyediakan sama sekali, maka perayapan web akan sangat dibutuhkan sebagai langkah pengambilan data.\n",
    "\n",
    "# Metode Web Scraping\n",
    "\n",
    "## Human copy-and-paste\n",
    "Metode paling sederhana dan paling mudah yaitu melakukan copy dan paster suatu data dari web secara manual. Terkadang teknologi web scraping tidak bisa menggantikan metode ini karena evaluasi dan akurasi dari \"Human\"-nya. Atau terkadang website tersebut melakukan tindakan preventif agar tidak bisa dilakukan scraping .\n",
    "\n",
    "## Text pattern matching\n",
    "Mengekstrat data teks dari suatu web menggunakan command UNIX atau regex. Biasanya dikombinasikan dengan bahasa pemrograman lain seperti Perl atau Python.\n",
    "\n",
    "## HTTP programming\n",
    "Mengambil data dari POST HTTP Request secara langsung dari suatu webpage.\n",
    "\n",
    "## HTML parsing\n",
    "Banyak web yang webpage nya dibuat secara dinamis daru suatu struktur database sendiri. Data-data ini biasanya menggunakan template yang sama (menghasilkan pola yang sama juga). Kita dapat meng-ekstrak data tersebut menjadi data yang bisa kita pakai. Terdapat bahasa-bahasa query yang bisa melakukan hal ini seperti XQuery dan HTQL.\n",
    "\n",
    "## Computer vision web-page analysis\n",
    "Mengekstrak informasi dari suatu webpage secara visual "
   ]
  },
  {
   "attachments": {
    "bs.png": {
     "image/png": "[encoded data removed]"
    }
   },
   "cell_type": "markdown",
   "id": "4c4c05e8",
   "metadata": {},
   "source": [
    "# BeautifulSoup\n",
    "![bs.png](attachment:bs.png)\n",
    "\n",
    "Beautiful Soup adalah suatu package python yang berguna untuk melakukan parsing suatu dokumen HTML dan XML. (termasuk markup yang salah secara struktural ataupun sistematis. Hal ini biasa disebut _tag soup_ ). Beautiful Soup membuat parse tree dari suatu webpage yang bisa digunakan untuk mengekstrak data dari HTML.\n",
    "\n",
    "Beautiful Soup dibuat oleh Leonard Richardson, yang masih berkontribusi sampai sekarang, dan Tidelift, Management package open-source berbayar"
   ]
  },
  {
   "cell_type": "code",
   "execution_count": null,
   "id": "7d25e95c",
   "metadata": {},
   "outputs": [],
   "source": [
    "#Install beautiful soup terlebih dahulu\n",
    "!pip install beautifulsoup4"
   ]
  },
  {
   "cell_type": "markdown",
   "id": "2cffcc85",
   "metadata": {},
   "source": [
    "# Mengambil Content\n",
    "\n",
    "Contoh Webpage yang akan kita pakai [Here](https://keithgalli.github.io/web-scraping/example.html)"
   ]
  },
  {
   "cell_type": "code",
   "execution_count": 4,
   "id": "popular-survivor",
   "metadata": {},
   "outputs": [],
   "source": [
    "import requests\n",
    "from bs4 import BeautifulSoup as bs "
   ]
  },
  {
   "cell_type": "code",
   "execution_count": 5,
   "id": "requested-consultancy",
   "metadata": {},
   "outputs": [
    {
     "name": "stdout",
     "output_type": "stream",
     "text": [
      "<html>\n",
      "<head>\n",
      "<title>HTML Example</title>\n",
      "</head>\n",
      "<body>\n",
      "<div align=\"middle\">\n",
      "<h1>HTML Webpage</h1>\n",
      "<p>Link to more interesting example: <a href=\"https://keithgalli.github.io/web-scraping/webpage.html\">keithgalli.github.io/web-scraping/webpage.html</a></p>\n",
      "</div>\n",
      "<h2>A Header</h2>\n",
      "<p><i>Some italicized text</i></p>\n",
      "<h2>Another header</h2>\n",
      "<p id=\"paragraph-id\"><b>Some bold text</b></p>\n",
      "</body>\n",
      "</html>\n",
      "\n"
     ]
    }
   ],
   "source": [
    "# load webpage yang mau kita scrapping dengan request\n",
    "r = requests.get('https://keithgalli.github.io/web-scraping/example.html')\n",
    "\n",
    "#print(type(r.content))\n",
    "# convert jadi object bs\n",
    "soup = bs(r.content)\n",
    "\n",
    "print(soup)"
   ]
  },
  {
   "cell_type": "code",
   "execution_count": 6,
   "id": "ef506b91",
   "metadata": {},
   "outputs": [
    {
     "name": "stdout",
     "output_type": "stream",
     "text": [
      "<html>\n",
      " <head>\n",
      "  <title>\n",
      "   HTML Example\n",
      "  </title>\n",
      " </head>\n",
      " <body>\n",
      "  <div align=\"middle\">\n",
      "   <h1>\n",
      "    HTML Webpage\n",
      "   </h1>\n",
      "   <p>\n",
      "    Link to more interesting example:\n",
      "    <a href=\"https://keithgalli.github.io/web-scraping/webpage.html\">\n",
      "     keithgalli.github.io/web-scraping/webpage.html\n",
      "    </a>\n",
      "   </p>\n",
      "  </div>\n",
      "  <h2>\n",
      "   A Header\n",
      "  </h2>\n",
      "  <p>\n",
      "   <i>\n",
      "    Some italicized text\n",
      "   </i>\n",
      "  </p>\n",
      "  <h2>\n",
      "   Another header\n",
      "  </h2>\n",
      "  <p id=\"paragraph-id\">\n",
      "   <b>\n",
      "    Some bold text\n",
      "   </b>\n",
      "  </p>\n",
      " </body>\n",
      "</html>\n",
      "\n"
     ]
    }
   ],
   "source": [
    "#output dengan indentasi - agar lebih mudah dibaca\n",
    "print(soup.prettify())"
   ]
  },
  {
   "cell_type": "markdown",
   "id": "western-supplier",
   "metadata": {},
   "source": [
    "# `find` dan `find_all`"
   ]
  },
  {
   "cell_type": "code",
   "execution_count": 7,
   "id": "medieval-python",
   "metadata": {},
   "outputs": [
    {
     "data": {
      "text/plain": [
       "<h2>A Header</h2>"
      ]
     },
     "execution_count": 7,
     "metadata": {},
     "output_type": "execute_result"
    }
   ],
   "source": [
    "soup.find('h2')"
   ]
  },
  {
   "cell_type": "code",
   "execution_count": 8,
   "id": "french-learning",
   "metadata": {},
   "outputs": [
    {
     "data": {
      "text/plain": [
       "[<h2>A Header</h2>, <h2>Another header</h2>]"
      ]
     },
     "execution_count": 8,
     "metadata": {},
     "output_type": "execute_result"
    }
   ],
   "source": [
    "soup.find_all('h2')"
   ]
  },
  {
   "cell_type": "code",
   "execution_count": 9,
   "id": "opponent-detection",
   "metadata": {},
   "outputs": [
    {
     "data": {
      "text/plain": [
       "[<h1>HTML Webpage</h1>, <h2>A Header</h2>, <h2>Another header</h2>]"
      ]
     },
     "execution_count": 9,
     "metadata": {},
     "output_type": "execute_result"
    }
   ],
   "source": [
    "soup.find_all(['h2', 'h1'])"
   ]
  },
  {
   "cell_type": "code",
   "execution_count": 10,
   "id": "orange-morgan",
   "metadata": {},
   "outputs": [
    {
     "data": {
      "text/plain": [
       "[<p>Link to more interesting example: <a href=\"https://keithgalli.github.io/web-scraping/webpage.html\">keithgalli.github.io/web-scraping/webpage.html</a></p>,\n",
       " <p><i>Some italicized text</i></p>,\n",
       " <p id=\"paragraph-id\"><b>Some bold text</b></p>]"
      ]
     },
     "execution_count": 10,
     "metadata": {},
     "output_type": "execute_result"
    }
   ],
   "source": [
    "soup.find_all('p')"
   ]
  },
  {
   "cell_type": "code",
   "execution_count": 11,
   "id": "later-tractor",
   "metadata": {},
   "outputs": [
    {
     "data": {
      "text/plain": [
       "<p id=\"paragraph-id\"><b>Some bold text</b></p>"
      ]
     },
     "execution_count": 11,
     "metadata": {},
     "output_type": "execute_result"
    }
   ],
   "source": [
    "# You can pass in attributes to the find/find_all function\n",
    "soup.find('p', attrs={'id': 'paragraph-id'})"
   ]
  },
  {
   "cell_type": "code",
   "execution_count": 12,
   "id": "furnished-breach",
   "metadata": {},
   "outputs": [
    {
     "data": {
      "text/plain": [
       "<body>\n",
       "<div align=\"middle\">\n",
       "<h1>HTML Webpage</h1>\n",
       "<p>Link to more interesting example: <a href=\"https://keithgalli.github.io/web-scraping/webpage.html\">keithgalli.github.io/web-scraping/webpage.html</a></p>\n",
       "</div>\n",
       "<h2>A Header</h2>\n",
       "<p><i>Some italicized text</i></p>\n",
       "<h2>Another header</h2>\n",
       "<p id=\"paragraph-id\"><b>Some bold text</b></p>\n",
       "</body>"
      ]
     },
     "execution_count": 12,
     "metadata": {},
     "output_type": "execute_result"
    }
   ],
   "source": [
    "# You can nest find/find_all calls\n",
    "body = soup.find('body')\n",
    "body"
   ]
  },
  {
   "cell_type": "code",
   "execution_count": 13,
   "id": "1fff977c",
   "metadata": {},
   "outputs": [
    {
     "data": {
      "text/plain": [
       "<div align=\"middle\">\n",
       "<h1>HTML Webpage</h1>\n",
       "<p>Link to more interesting example: <a href=\"https://keithgalli.github.io/web-scraping/webpage.html\">keithgalli.github.io/web-scraping/webpage.html</a></p>\n",
       "</div>"
      ]
     },
     "execution_count": 13,
     "metadata": {},
     "output_type": "execute_result"
    }
   ],
   "source": [
    "div = body.find('div')\n",
    "div"
   ]
  },
  {
   "cell_type": "code",
   "execution_count": null,
   "id": "comfortable-diesel",
   "metadata": {},
   "outputs": [],
   "source": [
    "header = div.find('h1')\n",
    "header"
   ]
  },
  {
   "cell_type": "code",
   "execution_count": null,
   "id": "9556510c",
   "metadata": {},
   "outputs": [],
   "source": [
    "soup.body.i"
   ]
  },
  {
   "cell_type": "code",
   "execution_count": null,
   "id": "bacterial-turkish",
   "metadata": {},
   "outputs": [],
   "source": [
    "soup.body.div.h1"
   ]
  },
  {
   "cell_type": "code",
   "execution_count": null,
   "id": "reflected-briefing",
   "metadata": {
    "scrolled": true
   },
   "outputs": [],
   "source": [
    "print(soup.prettify())"
   ]
  },
  {
   "cell_type": "markdown",
   "id": "1fe3e3d6",
   "metadata": {},
   "source": [
    "## menggunakan bantuan regex"
   ]
  },
  {
   "cell_type": "code",
   "execution_count": null,
   "id": "durable-single",
   "metadata": {},
   "outputs": [],
   "source": [
    "import re\n",
    "paragraph = soup.find_all('p', string=re.compile('Some'))\n",
    "paragraph"
   ]
  },
  {
   "cell_type": "code",
   "execution_count": null,
   "id": "driven-helping",
   "metadata": {},
   "outputs": [],
   "source": [
    "headers = soup.find_all('h2', string=re.compile('(H|h)eader'))\n",
    "headers"
   ]
  },
  {
   "cell_type": "markdown",
   "id": "planned-monitor",
   "metadata": {},
   "source": [
    "# `select` CSS Selector\n",
    "List CSS Selector : https://www.w3schools.com/cssref/css_selectors.asp"
   ]
  },
  {
   "cell_type": "code",
   "execution_count": null,
   "id": "documentary-movie",
   "metadata": {},
   "outputs": [],
   "source": [
    "content = soup.select(\"body p\")\n",
    "content"
   ]
  },
  {
   "cell_type": "code",
   "execution_count": null,
   "id": "e2b59437",
   "metadata": {},
   "outputs": [],
   "source": [
    "paragraphs = soup.select(\"h2 ~ p\")\n",
    "paragraphs"
   ]
  },
  {
   "cell_type": "code",
   "execution_count": null,
   "id": "acting-yellow",
   "metadata": {},
   "outputs": [],
   "source": [
    "paragraphs = soup.select('body > p')\n",
    "print(paragraphs)\n",
    "for paragraph in paragraphs:\n",
    "    print(paragraph.select('i'))"
   ]
  },
  {
   "cell_type": "code",
   "execution_count": null,
   "id": "verbal-miller",
   "metadata": {},
   "outputs": [],
   "source": [
    "par = soup.select('p#paragraph-id b')\n",
    "par"
   ]
  },
  {
   "cell_type": "code",
   "execution_count": null,
   "id": "primary-cliff",
   "metadata": {},
   "outputs": [],
   "source": [
    "soup.select('[id=paragraph-id]')"
   ]
  },
  {
   "cell_type": "markdown",
   "id": "ffe273eb",
   "metadata": {},
   "source": [
    "# Get different properties of the HTML"
   ]
  },
  {
   "cell_type": "code",
   "execution_count": null,
   "id": "a26a7422",
   "metadata": {},
   "outputs": [],
   "source": [
    "soup.title.get_text()"
   ]
  },
  {
   "cell_type": "code",
   "execution_count": null,
   "id": "generic-crazy",
   "metadata": {},
   "outputs": [],
   "source": [
    "soup.find('p').get_text()"
   ]
  },
  {
   "cell_type": "code",
   "execution_count": null,
   "id": "forced-means",
   "metadata": {},
   "outputs": [],
   "source": [
    "div"
   ]
  },
  {
   "cell_type": "code",
   "execution_count": null,
   "id": "productive-forwarding",
   "metadata": {
    "scrolled": false
   },
   "outputs": [],
   "source": [
    "div = soup.find('div')\n",
    "print(div.get_text())"
   ]
  },
  {
   "cell_type": "code",
   "execution_count": null,
   "id": "relevant-coast",
   "metadata": {},
   "outputs": [],
   "source": [
    "link = soup.find('a')\n",
    "link['href']"
   ]
  },
  {
   "cell_type": "code",
   "execution_count": null,
   "id": "romantic-maryland",
   "metadata": {},
   "outputs": [],
   "source": [
    "par = soup.select('p#paragraph-id')[0]\n",
    "par['id']"
   ]
  },
  {
   "cell_type": "markdown",
   "id": "sharp-registrar",
   "metadata": {},
   "source": [
    "# Code Navigation"
   ]
  },
  {
   "cell_type": "code",
   "execution_count": null,
   "id": "e3203ee9",
   "metadata": {},
   "outputs": [],
   "source": [
    "print(soup.prettify())"
   ]
  },
  {
   "cell_type": "code",
   "execution_count": null,
   "id": "fixed-governor",
   "metadata": {
    "scrolled": true
   },
   "outputs": [],
   "source": [
    "soup.body.find('div')"
   ]
  },
  {
   "cell_type": "markdown",
   "id": "69748a3c",
   "metadata": {},
   "source": [
    "## `find_parent()`"
   ]
  },
  {
   "cell_type": "code",
   "execution_count": null,
   "id": "bc04b847",
   "metadata": {},
   "outputs": [],
   "source": [
    "soup.body.find('div').find_parent()"
   ]
  },
  {
   "cell_type": "markdown",
   "id": "5e438459",
   "metadata": {},
   "source": [
    "## `find_next_siblings()` dan `find_previous_siblings()`"
   ]
  },
  {
   "cell_type": "code",
   "execution_count": null,
   "id": "eddb772c",
   "metadata": {
    "scrolled": true
   },
   "outputs": [],
   "source": [
    "soup.body.find(\"div\").find_next_siblings()"
   ]
  },
  {
   "cell_type": "code",
   "execution_count": null,
   "id": "70228c45",
   "metadata": {},
   "outputs": [],
   "source": [
    "soup.body.find(\"h2\").find_previous_sibling()"
   ]
  },
  {
   "cell_type": "markdown",
   "id": "79ad9af8",
   "metadata": {},
   "source": [
    "# Contoh\n",
    "\n",
    "Contoh Webpage yang akan kita pakai [Here](https://keithgalli.github.io/web-scraping/webpage.html)\n",
    "\n",
    "## Contoh 1 : Mengambil Link Media Sosial"
   ]
  },
  {
   "cell_type": "code",
   "execution_count": null,
   "id": "polish-bleeding",
   "metadata": {},
   "outputs": [],
   "source": [
    "r = requests.get('https://keithgalli.github.io/web-scraping/webpage.html')\n",
    "webpage = bs(r.content)\n",
    "\n",
    "#print(webpage.prettify())"
   ]
  },
  {
   "cell_type": "markdown",
   "id": "30df5155",
   "metadata": {},
   "source": [
    "### Metode 1 : Menggunakan `find`"
   ]
  },
  {
   "cell_type": "code",
   "execution_count": null,
   "id": "bb66e46a",
   "metadata": {},
   "outputs": [],
   "source": [
    "links = webpage.find('ul', attrs={'class':'socials'})\n",
    "link_list = links.find_all('a')\n",
    "actual_links = [link['href'] for link in link_list]\n",
    "actual_links"
   ]
  },
  {
   "cell_type": "markdown",
   "id": "24ad36b6",
   "metadata": {},
   "source": [
    "### Metode 2 : Menggunakan CSS Selector"
   ]
  },
  {
   "cell_type": "code",
   "execution_count": null,
   "id": "designing-money",
   "metadata": {},
   "outputs": [],
   "source": [
    "links = webpage.select('ul.socials a')\n",
    "actual_links = [link['href'] for link in links]\n",
    "actual_links"
   ]
  },
  {
   "cell_type": "markdown",
   "id": "e4fb95f4",
   "metadata": {},
   "source": [
    "#### Bisa kita ambil dari parent-nya juga"
   ]
  },
  {
   "cell_type": "code",
   "execution_count": null,
   "id": "reported-species",
   "metadata": {},
   "outputs": [],
   "source": [
    "links = webpage.select(\"li.social a\")\n",
    "links"
   ]
  },
  {
   "cell_type": "code",
   "execution_count": null,
   "id": "9a5c840a",
   "metadata": {},
   "outputs": [],
   "source": [
    "links = webpage.select(\"body ul li.social a\")\n",
    "links"
   ]
  },
  {
   "cell_type": "markdown",
   "id": "63542001",
   "metadata": {},
   "source": [
    "## Contoh 2 : Mengambil Semua Text"
   ]
  },
  {
   "cell_type": "code",
   "execution_count": null,
   "id": "12a44be5",
   "metadata": {},
   "outputs": [],
   "source": [
    "header = webpage.body.find(\"h2\", string=\"Photos\")\n",
    "previous_elements = header.find_previous_siblings()\n",
    "previous_elements_sorted = previous_elements[::-1]\n",
    "elements = [x.get_text() for x in previous_elements_sorted]\n",
    "text = \"\\n\".join(elements)\n",
    "print(text)"
   ]
  },
  {
   "cell_type": "markdown",
   "id": "81d7f735",
   "metadata": {},
   "source": [
    "## Contoh 3 : Mengambil Table"
   ]
  },
  {
   "cell_type": "code",
   "execution_count": null,
   "id": "expired-forestry",
   "metadata": {},
   "outputs": [],
   "source": [
    "table = webpage.select('table.hockey-stats')[0]\n",
    "table\n",
    "#columns = table.find('thead').find_all('th')\n",
    "#column_name = [column.string for column in columns]\n",
    "#column_name"
   ]
  },
  {
   "cell_type": "code",
   "execution_count": null,
   "id": "monthly-soundtrack",
   "metadata": {
    "scrolled": true
   },
   "outputs": [],
   "source": [
    "import pandas as pd\n",
    "\n",
    "table_rows = table.find('tbody').find_all('tr')\n",
    "\n",
    "l=[]\n",
    "for tr in table_rows:\n",
    "    td= tr.find_all('td')\n",
    "    row = [txt.get_text().strip() for txt in td]\n",
    "    l.append(row)\n",
    "    \n",
    "    \n",
    "df = pd.DataFrame(l, columns=column_name)\n",
    "df"
   ]
  },
  {
   "cell_type": "markdown",
   "id": "optional-hampton",
   "metadata": {},
   "source": [
    "## Contoh 4 : Mengambil semua fun fact yang menggunakan kata \"is\""
   ]
  },
  {
   "cell_type": "code",
   "execution_count": null,
   "id": "widespread-burlington",
   "metadata": {},
   "outputs": [],
   "source": [
    "import re\n",
    "facts = webpage.select('ul.fun-facts li')\n",
    "fact_is = [fact.find(string = re.compile('is')) for fact in facts]\n",
    "fact_is"
   ]
  },
  {
   "cell_type": "code",
   "execution_count": null,
   "id": "4389309a",
   "metadata": {},
   "outputs": [],
   "source": [
    "fact_is_new = [fact.find_parent().get_text() for fact in fact_is if fact]\n",
    "fact_is_new"
   ]
  },
  {
   "cell_type": "markdown",
   "id": "e0a3e5bd",
   "metadata": {},
   "source": [
    "## Contoh 5 : Mendownload Gambar"
   ]
  },
  {
   "cell_type": "code",
   "execution_count": null,
   "id": "local-entrepreneur",
   "metadata": {
    "scrolled": true
   },
   "outputs": [],
   "source": [
    "img = webpage.select('div.row div.column img')\n",
    "img"
   ]
  },
  {
   "cell_type": "code",
   "execution_count": null,
   "id": "lyric-uniform",
   "metadata": {},
   "outputs": [],
   "source": [
    "url = \"https://keithgalli.github.io/web-scraping/\"\n",
    "\n",
    "lake = img[1]['src']\n",
    "full_url = url+lake\n",
    "full_url"
   ]
  },
  {
   "cell_type": "code",
   "execution_count": null,
   "id": "65f308ca",
   "metadata": {},
   "outputs": [],
   "source": [
    "img_data = requests.get(full_url).content\n",
    "handler = open('Pontevecchio.jpg','wb')\n",
    "handler.write(img_data)\n",
    "handler.close()"
   ]
  },
  {
   "cell_type": "markdown",
   "id": "50483c7c",
   "metadata": {},
   "source": [
    "Tutorial : https://www.youtube.com/watch?v=GjKQ6V_ViQE&t=1935s\n",
    "\n",
    "Dokumentasi BeautifulSoup : https://www.crummy.com/software/BeautifulSoup/bs4/doc/"
   ]
  },
  {
   "cell_type": "markdown",
   "id": "c379023a",
   "metadata": {},
   "source": [
    "# Tambahan : Scraping dengan pandas\n",
    "\n",
    "Pandas juga bisa digunakan untuk melakukan web scraping, hanya saja tidak semudah dan sebaik Beautiful Soup. Pandas sendiri hanya dapat mengesktrak data yang berupa tabel dari webpage tersebut"
   ]
  },
  {
   "cell_type": "code",
   "execution_count": 5,
   "id": "65a81ed3",
   "metadata": {},
   "outputs": [],
   "source": [
    "import pandas as pd\n",
    "\n",
    "df = pd.read_html('https://keithgalli.github.io/web-scraping/webpage.html')"
   ]
  },
  {
   "cell_type": "code",
   "execution_count": null,
   "id": "04d1f124",
   "metadata": {},
   "outputs": [],
   "source": [
    "len(df)"
   ]
  },
  {
   "cell_type": "code",
   "execution_count": null,
   "id": "b594b6b4",
   "metadata": {
    "scrolled": true
   },
   "outputs": [],
   "source": [
    "df[0]"
   ]
  },
  {
   "cell_type": "code",
   "execution_count": 6,
   "id": "35bb7ee3",
   "metadata": {},
   "outputs": [
    {
     "data": {
      "text/plain": [
       "14"
      ]
     },
     "execution_count": 6,
     "metadata": {},
     "output_type": "execute_result"
    }
   ],
   "source": [
    "df = pd.read_html('https://en.wikipedia.org/wiki/Python_(programming_language)')\n",
    "\n",
    "len(df)"
   ]
  },
  {
   "cell_type": "code",
   "execution_count": 11,
   "id": "700e46ee",
   "metadata": {},
   "outputs": [
    {
     "data": {
      "text/html": [
       "<div>\n",
       "<style scoped>\n",
       "    .dataframe tbody tr th:only-of-type {\n",
       "        vertical-align: middle;\n",
       "    }\n",
       "\n",
       "    .dataframe tbody tr th {\n",
       "        vertical-align: top;\n",
       "    }\n",
       "\n",
       "    .dataframe thead th {\n",
       "        text-align: right;\n",
       "    }\n",
       "</style>\n",
       "<table border=\"1\" class=\"dataframe\">\n",
       "  <thead>\n",
       "    <tr style=\"text-align: right;\">\n",
       "      <th></th>\n",
       "      <th>vteProgramming languages</th>\n",
       "      <th>vteProgramming languages.1</th>\n",
       "    </tr>\n",
       "  </thead>\n",
       "  <tbody>\n",
       "    <tr>\n",
       "      <th>0</th>\n",
       "      <td>Comparison Timeline History</td>\n",
       "      <td>Comparison Timeline History</td>\n",
       "    </tr>\n",
       "    <tr>\n",
       "      <th>1</th>\n",
       "      <td>Ada ALGOL APL ArkTS Assembly BASIC C C++ C# Cl...</td>\n",
       "      <td>Ada ALGOL APL ArkTS Assembly BASIC C C++ C# Cl...</td>\n",
       "    </tr>\n",
       "    <tr>\n",
       "      <th>2</th>\n",
       "      <td>Lists: Alphabetical Categorical Generational N...</td>\n",
       "      <td>Lists: Alphabetical Categorical Generational N...</td>\n",
       "    </tr>\n",
       "  </tbody>\n",
       "</table>\n",
       "</div>"
      ],
      "text/plain": [
       "                            vteProgramming languages  \\\n",
       "0                        Comparison Timeline History   \n",
       "1  Ada ALGOL APL ArkTS Assembly BASIC C C++ C# Cl...   \n",
       "2  Lists: Alphabetical Categorical Generational N...   \n",
       "\n",
       "                          vteProgramming languages.1  \n",
       "0                        Comparison Timeline History  \n",
       "1  Ada ALGOL APL ArkTS Assembly BASIC C C++ C# Cl...  \n",
       "2  Lists: Alphabetical Categorical Generational N...  "
      ]
     },
     "execution_count": 11,
     "metadata": {},
     "output_type": "execute_result"
    }
   ],
   "source": [
    "df[3]"
   ]
  },
  {
   "cell_type": "code",
   "execution_count": null,
   "id": "2ab89b19",
   "metadata": {},
   "outputs": [],
   "source": []
  }
 ],
 "metadata": {
  "kernelspec": {
   "display_name": "Python 3 (ipykernel)",
   "language": "python",
   "name": "python3"
  },
  "language_info": {
   "codemirror_mode": {
    "name": "ipython",
    "version": 3
   },
   "file_extension": ".py",
   "mimetype": "text/x-python",
   "name": "python",
   "nbconvert_exporter": "python",
   "pygments_lexer": "ipython3",
   "version": "3.11.5"
  }
 },
 "nbformat": 4,
 "nbformat_minor": 5
}
